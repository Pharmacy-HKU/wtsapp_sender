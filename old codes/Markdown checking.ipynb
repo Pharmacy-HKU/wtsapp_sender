{
 "metadata": {
  "language_info": {
   "codemirror_mode": {
    "name": "ipython",
    "version": 3
   },
   "file_extension": ".py",
   "mimetype": "text/x-python",
   "name": "python",
   "nbconvert_exporter": "python",
   "pygments_lexer": "ipython3",
   "version": "3.9.2-final"
  },
  "orig_nbformat": 2,
  "kernelspec": {
   "name": "python3",
   "display_name": "Python 3.9.2 64-bit",
   "metadata": {
    "interpreter": {
     "hash": "7812ea015bdcee6f23a998adcdd2ef97c151c0c241b7b7070987d9313e41299d"
    }
   }
  }
 },
 "nbformat": 4,
 "nbformat_minor": 2,
 "cells": [
  {
   "cell_type": "code",
   "execution_count": 117,
   "metadata": {},
   "outputs": [],
   "source": [
    "# -*- coding: UTF-8 -*-\n",
    "import PySimpleGUI as sg\n",
    "from selenium import webdriver\n",
    "import csv\n",
    "import time\n",
    "import itertools  \n",
    "from datetime import datetime\n",
    "from datetime import timedelta\n",
    "import openpyxl\n",
    "import sys\n",
    "import re\n",
    "# Waiting\n",
    "from selenium.webdriver.support.wait import WebDriverWait\n",
    "from selenium.webdriver.support import expected_conditions as EC\n",
    "from selenium.webdriver.common.by import By\n",
    "from selenium.webdriver.common.keys import Keys\n",
    "from selenium.webdriver.common.action_chains import ActionChains\n"
   ]
  },
  {
   "cell_type": "code",
   "execution_count": 118,
   "metadata": {},
   "outputs": [],
   "source": [
    "filename=\"/Users/fanmin/OneDrive/OneDrive - connect.hku.hk/Projects/cov19/version for sharing/Name list for testing/test name list_2FM.csv\"\n",
    "if \"csv\" in filename:\n",
    "    with open(r\"{}\".format(filename), encoding='UTF-8') as f:\n",
    "        users = []\n",
    "        names = []\n",
    "        rows = csv.reader(f,delimiter=\",\",lineterminator=\"\\n\")\n",
    "        next(rows, None)\n",
    "        for row in rows:\n",
    "            user = row[1]\n",
    "            users.append(user)\n",
    "            name = row[0]\n",
    "            names.append(name)"
   ]
  },
  {
   "cell_type": "code",
   "execution_count": 106,
   "metadata": {},
   "outputs": [],
   "source": [
    "message_head = str(\"尊敬的 \")\n",
    "messagesss = str(\"go\")\n",
    "lenofname = len(names)\n",
    "t1 = 1"
   ]
  },
  {
   "cell_type": "code",
   "execution_count": 119,
   "metadata": {},
   "outputs": [],
   "source": [
    "t1 = t1\n",
    "contatos = users\n",
    "names = names\n",
    "mensagem = messagesss\n",
    "click_number = 0\n",
    "options = webdriver.ChromeOptions()\n",
    "options.add_argument('lang=en-US')\n",
    "options.add_argument('disable-infobars')\n",
    "options.add_argument('disable-notifications')\n",
    "options.add_argument('disable-popup-blocking')\n",
    "prefs = {'profile.default_content_setting_values' :  {  'notifications' : 2  }  }\n",
    "drivepath = '/Users/fanmin/OneDrive/OneDrive - connect.hku.hk/Projects/cov19/version for sharing/Mac/chromedriver_mac'\n",
    "\n",
    "options.add_experimental_option(\"prefs\",prefs)\n",
    "driver = webdriver.Chrome(executable_path = drivepath)\n",
    "driver.implicitly_wait(20) \n",
    "driver.get('https://web.whatsapp.com/')"
   ]
  },
  {
   "cell_type": "code",
   "execution_count": 171,
   "metadata": {},
   "outputs": [
    {
     "output_type": "execute_result",
     "data": {
      "text/plain": [
       "'<span aria-label=\"您：\"></span><div class=\"_1bR5a\"><div class=\"copyable-text\" data-pre-plain-text=\"[17:45, 2021年3月20日] Fm: \"><div class=\"_3ExzF\"><span dir=\"ltr\" class=\"_3-8er selectable-text copyable-text\"><span>老婆爱你</span></span><span class=\"_1Bd9o _2ScdV\"></span></div></div><div class=\"_2zWo9\"><div class=\"UFTvj\" role=\"button\"><span class=\"_17Osw\" dir=\"auto\">17:45</span><div class=\"_2nWgr\"><span data-testid=\"msg-dblcheck\" aria-label=\" 已递送 \" data-icon=\"msg-dblcheck\" class=\"\"><svg xmlns=\"http://www.w3.org/2000/svg\" viewBox=\"0 0 16 15\" width=\"16\" height=\"15\"><path fill=\"currentColor\" d=\"M15.01 3.316l-.478-.372a.365.365 0 0 0-.51.063L8.666 9.879a.32.32 0 0 1-.484.033l-.358-.325a.319.319 0 0 0-.484.032l-.378.483a.418.418 0 0 0 .036.541l1.32 1.266c.143.14.361.125.484-.033l6.272-8.048a.366.366 0 0 0-.064-.512zm-4.1 0l-.478-.372a.365.365 0 0 0-.51.063L4.566 9.879a.32.32 0 0 1-.484.033L1.891 7.769a.366.366 0 0 0-.515.006l-.423.433a.364.364 0 0 0 .006.514l3.258 3.185c.143.14.361.125.484-.033l6.272-8.048a.365.365 0 0 0-.063-.51z\"></path></svg></span></div></div></div></div><span><div class=\"_39Lm1 _3qSKL\" style=\"opacity: 1;\"><div data-js-context-icon=\"true\" class=\"QhSbI\" style=\"transform: translateX(0%);\"><span data-testid=\"down-context\" data-icon=\"down-context\" class=\"\"><svg xmlns=\"http://www.w3.org/2000/svg\" viewBox=\"0 0 18 18\" width=\"18\" height=\"18\"><path fill=\"currentColor\" d=\"M3.3 4.6L9 10.3l5.7-5.7 1.6 1.6L9 13.4 1.7 6.2l1.6-1.6z\"></path></svg></span></div></div></span>'"
      ]
     },
     "metadata": {},
     "execution_count": 171
    }
   ],
   "source": [
    "driver.find_element_by_css_selector(\"span[class='_39Lm1 _3qSKL']\")"
   ]
  },
  {
   "cell_type": "code",
   "execution_count": null,
   "metadata": {},
   "outputs": [],
   "source": []
  },
  {
   "cell_type": "code",
   "execution_count": 120,
   "metadata": {},
   "outputs": [],
   "source": [
    "wait = WebDriverWait(driver, 30 ,1) # Set a waiting time of 30 seconds for elements loading\n",
    "success_phone_number = \"85259332417\"\n",
    "success_name = 'FM'\n",
    "test = \"我是FM，忽略我，做测试,请勿回复，thanks\"\n",
    "click_number = 1\n",
    "for i in [1]:\n",
    "    # Keep a record for those successful name and number\n",
    "    try:\n",
    "        link = 'https://web.whatsapp.com/send?phone='+success_phone_number+'&text='+test\n",
    "        driver.get(link)\n",
    "        driver.execute_script(\"window.onunload=null; window.onbeforeunload=null\")\n",
    "        wait.until(EC.presence_of_element_located((By.CLASS_NAME, \"_3QfZd\"))) # until the page finished loading\n",
    "        time.sleep(1)\n",
    "        chat_box = wait.until(EC.presence_of_element_located((By.CLASS_NAME, '_1E0Oz'))) # until the chat box is loaded\n",
    "        time.sleep(1) \n",
    "        chat_box.click() # click the send button \n",
    "        time.sleep(1)\n",
    "        elements_for_last_msg = \"div[class='_11liR'] div[class*='GDTQm'][class*='message-out'] div[class='UFTvj'] span[class='_17Osw']\" # get the time of last msg \n",
    "        if len(elements_for_last_msg)>0 :\n",
    "            time_for_last_msg = str(driver.find_elements_by_css_selector(elements_for_last_msg)[-1].get_attribute(\"innerHTML\"))\n",
    "            send_time = datetime.strptime(time_for_last_msg,\"%H:%M\")\n",
    "            time_margin = timedelta(minutes = 1)\n",
    "            present_time = datetime.strptime(datetime.now().strftime(\"%H:%M\"),\"%H:%M\") # The current time \n",
    "            # if the sending time for last msg is not far from the current time, means the msg has been successful sent.\n",
    "            if present_time - time_margin <= send_time <= present_time + time_margin:\n",
    "                click_number = click_number + 1\n",
    "                success_phone_number = success_phone_number.append(contato)\n",
    "                success_name = success_name.append(name)\n",
    "                break\n",
    "        else:\n",
    "            break\n",
    "    except:\n",
    "        continue \n",
    "    print(success_name)"
   ]
  },
  {
   "cell_type": "code",
   "execution_count": 108,
   "metadata": {},
   "outputs": [
    {
     "output_type": "stream",
     "name": "stdout",
     "text": [
      "1900-01-01 12:27:00\n1900-01-01 12:28:00\n"
     ]
    }
   ],
   "source": [
    "\n",
    "elements_for_last_msg = \"div[class='_11liR'] div[class*='GDTQm'][class*='message-out'] div[class='UFTvj'] span[class='_17Osw']\"\n",
    "# get the time of last msg \n",
    "time_in_page =str(driver.find_elements_by_css_selector(elements_for_last_msg)[-1].get_attribute('innerHTML'))\n",
    "if bool(re.search('下午|PM|晚上|pm',time_in_page)):\n",
    "    time_in_page_remove_original_AMPM = ''.join(list(filter(lambda ch: ch in '0123456789:', time_in_page))) + \" PM\"\n",
    "    time_in_page_formatted = datetime.strptime(time_in_page_remove_original_AMPM,\"%I:%M %p\")\n",
    "elif bool(re.search('上午|AM|am',time_in_page)):\n",
    "    time_in_page_remove_original_AMPM = ''.join(list(filter(lambda ch: ch in '0123456789:', time_in_page))) + \" AM\"\n",
    "    time_in_page_formatted = datetime.strptime(time_in_page_remove_original_AMPM,\"%I:%M %p\")\n",
    "else:\n",
    "    time_in_page_formatted = datetime.strptime(time_in_page,\"%H:%M\")\n",
    "send_time = time_in_page_formatted\n",
    "time_margin = timedelta(minutes = 1)\n",
    "present_time = datetime.strptime(datetime.now().strftime(\"%H:%M\"),\"%H:%M\") # The current time \n",
    "# if the sending time for last msg is not far from the current time, means the msg has been successful sent.\n",
    "if present_time - time_margin <= send_time <= present_time + time_margin:\n",
    "    #should_restart = False\n",
    "    click_number = click_number + 1\n",
    "    \n",
    "print(send_time)\n",
    "print(present_time)\n"
   ]
  },
  {
   "cell_type": "code",
   "execution_count": 123,
   "metadata": {},
   "outputs": [
    {
     "output_type": "stream",
     "name": "stdout",
     "text": [
      "1900-01-01 12:28:00\n"
     ]
    }
   ],
   "source": [
    "print(present_time)"
   ]
  },
  {
   "cell_type": "code",
   "execution_count": 121,
   "metadata": {},
   "outputs": [
    {
     "output_type": "stream",
     "name": "stdout",
     "text": [
      "1\n"
     ]
    }
   ],
   "source": [
    "print(click_number)"
   ]
  },
  {
   "cell_type": "code",
   "execution_count": 109,
   "metadata": {},
   "outputs": [
    {
     "output_type": "stream",
     "name": "stdout",
     "text": [
      "1900-01-01 12:29:00\n1900-01-01 12:29:00\n"
     ]
    },
    {
     "output_type": "error",
     "ename": "NameError",
     "evalue": "name 'window' is not defined",
     "traceback": [
      "\u001b[0;31m---------------------------------------------------------------------------\u001b[0m",
      "\u001b[0;31mNameError\u001b[0m                                 Traceback (most recent call last)",
      "\u001b[0;32m<ipython-input-109-69b29eda418c>\u001b[0m in \u001b[0;36m<module>\u001b[0;34m\u001b[0m\n\u001b[1;32m     85\u001b[0m     \u001b[0mbot\u001b[0m \u001b[0;34m=\u001b[0m \u001b[0mWhatsappBot\u001b[0m\u001b[0;34m(\u001b[0m\u001b[0;34m)\u001b[0m\u001b[0;34m\u001b[0m\u001b[0;34m\u001b[0m\u001b[0m\n\u001b[1;32m     86\u001b[0m     \u001b[0mbot\u001b[0m\u001b[0;34m.\u001b[0m\u001b[0mSendMessages\u001b[0m\u001b[0;34m(\u001b[0m\u001b[0;34m)\u001b[0m\u001b[0;34m\u001b[0m\u001b[0;34m\u001b[0m\u001b[0m\n\u001b[0;32m---> 87\u001b[0;31m \u001b[0mmain\u001b[0m\u001b[0;34m(\u001b[0m\u001b[0;34m)\u001b[0m\u001b[0;34m\u001b[0m\u001b[0;34m\u001b[0m\u001b[0m\n\u001b[0m",
      "\u001b[0;32m<ipython-input-109-69b29eda418c>\u001b[0m in \u001b[0;36mmain\u001b[0;34m()\u001b[0m\n\u001b[1;32m     84\u001b[0m   \u001b[0;31m#  try:\u001b[0m\u001b[0;34m\u001b[0m\u001b[0;34m\u001b[0m\u001b[0;34m\u001b[0m\u001b[0m\n\u001b[1;32m     85\u001b[0m     \u001b[0mbot\u001b[0m \u001b[0;34m=\u001b[0m \u001b[0mWhatsappBot\u001b[0m\u001b[0;34m(\u001b[0m\u001b[0;34m)\u001b[0m\u001b[0;34m\u001b[0m\u001b[0;34m\u001b[0m\u001b[0m\n\u001b[0;32m---> 86\u001b[0;31m     \u001b[0mbot\u001b[0m\u001b[0;34m.\u001b[0m\u001b[0mSendMessages\u001b[0m\u001b[0;34m(\u001b[0m\u001b[0;34m)\u001b[0m\u001b[0;34m\u001b[0m\u001b[0;34m\u001b[0m\u001b[0m\n\u001b[0m\u001b[1;32m     87\u001b[0m \u001b[0mmain\u001b[0m\u001b[0;34m(\u001b[0m\u001b[0;34m)\u001b[0m\u001b[0;34m\u001b[0m\u001b[0;34m\u001b[0m\u001b[0m\n",
      "\u001b[0;32m<ipython-input-109-69b29eda418c>\u001b[0m in \u001b[0;36mSendMessages\u001b[0;34m(self)\u001b[0m\n\u001b[1;32m     79\u001b[0m                 \u001b[0mwarning_after_finish\u001b[0m \u001b[0;34m=\u001b[0m \u001b[0;34m\"\\nThe message sending is finished.\\n\"\u001b[0m\u001b[0;34m+\u001b[0m\u001b[0mstr\u001b[0m\u001b[0;34m(\u001b[0m\u001b[0mself\u001b[0m\u001b[0;34m.\u001b[0m\u001b[0mclick_number\u001b[0m\u001b[0;34m)\u001b[0m\u001b[0;34m+\u001b[0m\u001b[0;34m\"/\"\u001b[0m\u001b[0;34m+\u001b[0m\u001b[0mstr\u001b[0m\u001b[0;34m(\u001b[0m\u001b[0mlenofname\u001b[0m\u001b[0;34m)\u001b[0m\u001b[0;34m+\u001b[0m\u001b[0;34m\" message has been sent.\\n\\n\"\u001b[0m\u001b[0;34m\u001b[0m\u001b[0;34m\u001b[0m\u001b[0m\n\u001b[1;32m     80\u001b[0m                 \u001b[0msg\u001b[0m\u001b[0;34m.\u001b[0m\u001b[0mPopup\u001b[0m\u001b[0;34m(\u001b[0m\u001b[0mwarning_after_finish\u001b[0m\u001b[0;34m)\u001b[0m\u001b[0;34m\u001b[0m\u001b[0;34m\u001b[0m\u001b[0m\n\u001b[0;32m---> 81\u001b[0;31m             \u001b[0mmessage_hint\u001b[0m \u001b[0;34m=\u001b[0m \u001b[0mwindow\u001b[0m\u001b[0;34m[\u001b[0m\u001b[0;34m'-OUTPUT-'\u001b[0m\u001b[0;34m]\u001b[0m\u001b[0;34m.\u001b[0m\u001b[0mget\u001b[0m\u001b[0;34m(\u001b[0m\u001b[0;34m)\u001b[0m \u001b[0;34m+\u001b[0m \u001b[0;34m\"\\n\"\u001b[0m\u001b[0;34m\u001b[0m\u001b[0;34m\u001b[0m\u001b[0m\n\u001b[0m\u001b[1;32m     82\u001b[0m             \u001b[0mmessage_hint\u001b[0m \u001b[0;34m=\u001b[0m \u001b[0mstr\u001b[0m\u001b[0;34m(\u001b[0m\u001b[0mdatetime\u001b[0m\u001b[0;34m.\u001b[0m\u001b[0mnow\u001b[0m\u001b[0;34m(\u001b[0m\u001b[0;34m)\u001b[0m\u001b[0;34m.\u001b[0m\u001b[0mstrftime\u001b[0m\u001b[0;34m(\u001b[0m\u001b[0;34m\"%d/%m/%Y %H:%M:%S\"\u001b[0m\u001b[0;34m)\u001b[0m\u001b[0;34m)\u001b[0m\u001b[0;34m+\u001b[0m\u001b[0mwarning_after_finish\u001b[0m\u001b[0;34m+\u001b[0m \u001b[0mmessage_hint\u001b[0m\u001b[0;34m\u001b[0m\u001b[0;34m\u001b[0m\u001b[0m\n\u001b[1;32m     83\u001b[0m             \u001b[0mwindow\u001b[0m\u001b[0;34m[\u001b[0m\u001b[0;34m'-OUTPUT-'\u001b[0m\u001b[0;34m]\u001b[0m\u001b[0;34m.\u001b[0m\u001b[0mupdate\u001b[0m\u001b[0;34m(\u001b[0m\u001b[0mmessage_hint\u001b[0m\u001b[0;34m)\u001b[0m\u001b[0;34m\u001b[0m\u001b[0;34m\u001b[0m\u001b[0m\n",
      "\u001b[0;31mNameError\u001b[0m: name 'window' is not defined"
     ]
    }
   ],
   "source": [
    "users= ['85259332417']\n",
    "names = ['fm']\n",
    "messagesss='fsdfdf'\n",
    "lenofname = len(names)\n",
    "def main():\n",
    "    class WhatsappBot:\n",
    "        def __init__(self):\n",
    "            self.t1 = t1\n",
    "#            self.t2 = t2\n",
    "#            self.t2 = t2\n",
    "            self.contatos = users\n",
    "            self.names = names\n",
    "            self.mensagem = messagesss\n",
    "            self.click_number = 0\n",
    "            options = webdriver.ChromeOptions()\n",
    "            options.add_argument('lang=en-US')\n",
    "            options.add_argument('disable-infobars');\n",
    "            options.add_argument(\"disable-notifications\");\n",
    "            options.add_argument(\"disable-popup-blocking\");\n",
    "            prefs = {'profile.default_content_setting_values' :  {  'notifications' : 2  }  }\n",
    "            options.add_experimental_option(\"prefs\",prefs)\n",
    "            self.driver = webdriver.Chrome(executable_path = drivepath)\n",
    "            self.driver.implicitly_wait(30) \n",
    "        def SendMessages(self):\n",
    "            wait = WebDriverWait(self.driver, 30 ,1) # Set a waiting time of 30 seconds for elements loading\n",
    "#            self.driver.get('https://web.whatsapp.com/') # Get into the wtsapp login-in page \n",
    "            time.sleep(t1)\n",
    "            success_phone_number = list() \n",
    "            success_name = list()\n",
    "            for (contato,name) in itertools.zip_longest(self.contatos,self.names): # loop the name number\n",
    "                #should_restart = True # Set a indicator of fail sending \n",
    "                # Keep a record for those successful name and number\n",
    "                #while should_restart: # If fail sending, the sending process will be restarted\n",
    "                try:\n",
    "                    link = 'https://web.whatsapp.com/send?phone='+ contato + '&text=' + message_head +name + \" \"+ self.mensagem\n",
    "                    self.driver.get(link)\n",
    "                    self.driver.execute_script(\"window.onunload=null; window.onbeforeunload=null\")\n",
    "                    wait.until(EC.presence_of_element_located((By.CLASS_NAME, \"_3QfZd\"))) # until the page finished loading\n",
    "                    time.sleep(1)\n",
    "                    chat_box = wait.until(EC.presence_of_element_located((By.CLASS_NAME, '_1E0Oz'))) # until the chat box is loaded\n",
    "                    time.sleep(1) \n",
    "                    chat_box.click() # click the send button \n",
    "                    time.sleep(1)\n",
    "                    elements_for_last_msg = \"div[class='_11liR'] div[class*='GDTQm'][class*='message-out'] div[class='UFTvj'] span[class='_17Osw']\" # get the time of last msg \n",
    "                    if len(elements_for_last_msg)>0:\n",
    "                        # get the time of last msg \n",
    "                        time_in_page =str(self.driver.find_elements_by_css_selector(elements_for_last_msg)[-1].get_attribute('innerHTML'))\n",
    "                        if bool(re.search('下午|PM|晚上|pm',time_in_page)):\n",
    "                            time_in_page_remove_original_AMPM = ''.join(list(filter(lambda ch: ch in '0123456789:', time_in_page))) + \" PM\"\n",
    "                            time_in_page_formatted = datetime.strptime(time_in_page_remove_original_AMPM,\"%I:%M %p\")\n",
    "                        elif bool(re.search('上午|AM|中午|am',time_in_page)):\n",
    "                            time_in_page_remove_original_AMPM = ''.join(list(filter(lambda ch: ch in '0123456789:', time_in_page))) + \" AM\"\n",
    "                            time_in_page_formatted = datetime.strptime(time_in_page_remove_original_AMPM,\"%I:%M %p\")\n",
    "                        else:\n",
    "                            time_in_page_formatted = datetime.strptime(time_in_page,\"%H:%M\")\n",
    "                        send_time = time_in_page_formatted\n",
    "                        time_margin = timedelta(minutes = 1)\n",
    "                        present_time = datetime.strptime(datetime.now().strftime(\"%H:%M\"),\"%H:%M\") # The current time \n",
    "                        # if the sending time for last msg is not far from the current time, means the msg has been successful sent.\n",
    "                        print(present_time)\n",
    "                        print(present_time)\n",
    "                        if present_time - time_margin <= send_time <= present_time + time_margin:\n",
    "                            #should_restart = False\n",
    "                            self.click_number = self.click_number + 1\n",
    "                            success_phone_number.append(contato)\n",
    "                            success_name.append(name)\n",
    "                        else:\n",
    "                            next\n",
    "                    else:\n",
    "                        next\n",
    "                except:\n",
    "                    continue \n",
    "            self.driver.quit()\n",
    "            fail_names = [x for x in self.names if x not in success_name]\n",
    "            if len(fail_names)>0:\n",
    "                warning_after_finish = \"\\n\"+str(self.click_number)+\"/\"+str(lenofname)+\" message has been sent. \\nPls check the following msg:\\n\"+','.join(fail_names)+\"\\n\\n\"\n",
    "                sg.Popup(warning_after_finish,title='')\n",
    "            else:\n",
    "                warning_after_finish = \"\\nThe message sending is finished.\\n\"+str(self.click_number)+\"/\"+str(lenofname)+\" message has been sent.\\n\\n\"\n",
    "                sg.Popup(warning_after_finish)\n",
    "            message_hint = window['-OUTPUT-'].get() + \"\\n\"\n",
    "            message_hint = str(datetime.now().strftime(\"%d/%m/%Y %H:%M:%S\"))+warning_after_finish+ message_hint\n",
    "            window['-OUTPUT-'].update(message_hint)\n",
    "  #  try:\n",
    "    bot = WhatsappBot()\n",
    "    bot.SendMessages()\n",
    "main()"
   ]
  },
  {
   "cell_type": "code",
   "execution_count": 113,
   "metadata": {},
   "outputs": [
    {
     "output_type": "execute_result",
     "data": {
      "text/plain": [
       "datetime.datetime(1900, 1, 1, 12, 27)"
      ]
     },
     "metadata": {},
     "execution_count": 113
    }
   ],
   "source": [
    "datetime.strptime(''.join(list(filter(lambda ch: ch in '0123456789:', time_in_page))) + \" PM\",\"%I:%M %p\")"
   ]
  },
  {
   "cell_type": "code",
   "execution_count": 116,
   "metadata": {},
   "outputs": [
    {
     "output_type": "execute_result",
     "data": {
      "text/plain": [
       "True"
      ]
     },
     "metadata": {},
     "execution_count": 116
    }
   ],
   "source": [
    "present_time - time_margin <= send_time <= present_time + time_margin"
   ]
  },
  {
   "cell_type": "code",
   "execution_count": 181,
   "metadata": {},
   "outputs": [
    {
     "output_type": "execute_result",
     "data": {
      "text/plain": [
       "<selenium.webdriver.remote.webelement.WebElement (session=\"7f2ecfc895738132cc313f098ad9a178\", element=\"97804ef3-0a6a-4df4-9189-93888d3e9dac\")>"
      ]
     },
     "metadata": {},
     "execution_count": 181
    }
   ],
   "source": [
    "driver.find_elements_by_css_selector(elements_for_last_msg)[-1]"
   ]
  },
  {
   "cell_type": "code",
   "execution_count": 129,
   "metadata": {},
   "outputs": [
    {
     "output_type": "execute_result",
     "data": {
      "text/plain": [
       "19"
      ]
     },
     "metadata": {},
     "execution_count": 129
    }
   ],
   "source": []
  },
  {
   "cell_type": "code",
   "execution_count": 24,
   "metadata": {},
   "outputs": [
    {
     "output_type": "error",
     "ename": "IndexError",
     "evalue": "list index out of range",
     "traceback": [
      "\u001b[0;31m---------------------------------------------------------------------------\u001b[0m",
      "\u001b[0;31mIndexError\u001b[0m                                Traceback (most recent call last)",
      "\u001b[0;32m<ipython-input-24-695cf8eebc1b>\u001b[0m in \u001b[0;36m<module>\u001b[0;34m\u001b[0m\n\u001b[0;32m----> 1\u001b[0;31m \u001b[0mstr\u001b[0m\u001b[0;34m(\u001b[0m\u001b[0mdriver\u001b[0m\u001b[0;34m.\u001b[0m\u001b[0mfind_elements_by_css_selector\u001b[0m\u001b[0;34m(\u001b[0m\u001b[0melements_for_last_msg\u001b[0m\u001b[0;34m)\u001b[0m\u001b[0;34m[\u001b[0m\u001b[0;36m0\u001b[0m\u001b[0;34m]\u001b[0m\u001b[0;34m.\u001b[0m\u001b[0mget_attribute\u001b[0m\u001b[0;34m(\u001b[0m\u001b[0;34m\"innerHTML\"\u001b[0m\u001b[0;34m)\u001b[0m\u001b[0;34m)\u001b[0m\u001b[0;34m\u001b[0m\u001b[0;34m\u001b[0m\u001b[0m\n\u001b[0m",
      "\u001b[0;31mIndexError\u001b[0m: list index out of range"
     ]
    }
   ],
   "source": [
    "str(driver.find_elements_by_css_selector(elements_for_last_msg)[0].get_attribute(\"innerHTML\"))"
   ]
  },
  {
   "cell_type": "code",
   "execution_count": null,
   "metadata": {},
   "outputs": [],
   "source": []
  },
  {
   "cell_type": "code",
   "execution_count": null,
   "metadata": {},
   "outputs": [],
   "source": []
  },
  {
   "cell_type": "code",
   "execution_count": 80,
   "metadata": {},
   "outputs": [],
   "source": [
    "def main():\n",
    "    class WhatsappBot:\n",
    "        def __init__(self):\n",
    "            self.t1 = t1\n",
    "            self.contatos = users\n",
    "            self.names = names\n",
    "            self.mensagem = messagesss\n",
    "            self.click_number = 0\n",
    "            options = webdriver.ChromeOptions()\n",
    "            options.add_argument('lang=en-US')\n",
    "            options.add_argument('disable-infobars')\n",
    "            options.add_argument(\"disable-notifications\")\n",
    "            options.add_argument(\"disable-popup-blocking\")\n",
    "            prefs = {'profile.default_content_setting_values' :  {  'notifications' : 2  }  }\n",
    "            options.add_experimental_option(\"prefs\",prefs)\n",
    "            self.driver = webdriver.Chrome(executable_path = drivepath)\n",
    "            self.driver.implicitly_wait(20) \n",
    "        def SendMessages(self):\n",
    "            wait = WebDriverWait(self.driver, 15 ,1)\n",
    "            self.driver.get('https://web.whatsapp.com/')\n",
    "            time.sleep(t1)\n",
    "            for (contato,name) in itertools.zip_longest(self.contatos,self.names):\n",
    "                should_restart = True\n",
    "                while should_restart:\n",
    "                    should_restart= False\n",
    "                    try:\n",
    "                        link = 'https://web.whatsapp.com/send?phone='+ contato + '&text=' + message_head +name + \" \"+ self.mensagem\n",
    "                        self.driver.get(link)\n",
    "                        self.driver.execute_script(\"window.onunload=null; window.onbeforeunload=null\")\n",
    "                        wait.until(EC.presence_of_element_located((By.CLASS_NAME, \"_3QfZd\")))\n",
    "                        time.sleep(1)\n",
    "                        chat_box = wait.until(EC.presence_of_element_located((By.CLASS_NAME, '_1E0Oz')))\n",
    "                        time.sleep(1) \n",
    "                        chat_box.click()\n",
    "                        send_time = str(driver.find_elements_by_css_selector(\"div[class='_11liR'] div[class~='GDTQm']:last-of-type div[class='UFTvj'] span[class='_17Osw']\")[0].get_attribute(\"innerHTML\"))\n",
    "                        if str(datetime.now().strftime(\"%H:%M\")) == send_time:\n",
    "                            should_restart = True\n",
    "                            self.click_number = self.click_number + 1\n",
    "                            time.sleep(1)\n",
    "                            break\n",
    "                    except:\n",
    "                        pass \n",
    "            self.driver.quit()\n",
    "  #  try:\n",
    "    bot = WhatsappBot()\n",
    "    bot.SendMessages()"
   ]
  },
  {
   "cell_type": "code",
   "execution_count": 94,
   "metadata": {},
   "outputs": [],
   "source": []
  },
  {
   "cell_type": "code",
   "execution_count": 74,
   "metadata": {},
   "outputs": [],
   "source": []
  },
  {
   "cell_type": "code",
   "execution_count": 84,
   "metadata": {},
   "outputs": [
    {
     "output_type": "execute_result",
     "data": {
      "text/plain": [
       "'18:41'"
      ]
     },
     "metadata": {},
     "execution_count": 84
    }
   ],
   "source": []
  },
  {
   "cell_type": "code",
   "execution_count": null,
   "metadata": {},
   "outputs": [],
   "source": [
    "def main():\n",
    "    class WhatsappBot:\n",
    "        def __init__(self):\n",
    "            self.test=1\n",
    "        def SendMessages(self):\n",
    "            try:\n",
    "                for i in (1,2,3,4):\n",
    "                    str(driver.find_elements_by_css_selector(\"div[class='_11liR'] div[class~='GDTQm']:last-of-type div[class='UFTvj'] span[class='_17Osw']\")[0].get_attribute(\"innerHTML\"))\n",
    "                    self.test = self.test+2\n",
    "            except:\n",
    "                pass\n",
    "            print(self.test)\n",
    "    bot = WhatsappBot()\n",
    "    bot.SendMessages()\n",
    "\n",
    "main()"
   ]
  },
  {
   "cell_type": "code",
   "execution_count": null,
   "metadata": {},
   "outputs": [],
   "source": [
    "main()"
   ]
  },
  {
   "cell_type": "code",
   "execution_count": 99,
   "metadata": {},
   "outputs": [
    {
     "output_type": "stream",
     "name": "stdout",
     "text": [
      "19:39\n19:39\n1\n"
     ]
    }
   ],
   "source": []
  },
  {
   "cell_type": "code",
   "execution_count": 49,
   "metadata": {},
   "outputs": [],
   "source": []
  },
  {
   "cell_type": "code",
   "execution_count": 52,
   "metadata": {},
   "outputs": [],
   "source": [
    "message_head = str(\"尊敬的 \")\n",
    "messagesss = str(\"go\")\n",
    "lenofname = len(names)\n",
    "t1 = 10\n",
    "drivepath = '/Users/fanmin/OneDrive/OneDrive - connect.hku.hk/Projects/cov19/version for sharing/Mac/chromedriver_mac'\n",
    "main()"
   ]
  },
  {
   "cell_type": "code",
   "execution_count": null,
   "metadata": {},
   "outputs": [],
   "source": []
  },
  {
   "cell_type": "code",
   "execution_count": null,
   "metadata": {},
   "outputs": [],
   "source": []
  },
  {
   "cell_type": "code",
   "execution_count": null,
   "metadata": {},
   "outputs": [],
   "source": []
  },
  {
   "cell_type": "code",
   "execution_count": null,
   "metadata": {},
   "outputs": [],
   "source": []
  },
  {
   "cell_type": "code",
   "execution_count": null,
   "metadata": {},
   "outputs": [],
   "source": []
  },
  {
   "cell_type": "code",
   "execution_count": 1,
   "metadata": {},
   "outputs": [],
   "source": [
    "import time\n",
    "\n",
    "from selenium import webdriver\n",
    "\n",
    "from simon.accounts.pages import LoginPage\n",
    "from simon.chat.pages import ChatPage\n",
    "from simon.chats.pages import PanePage\n",
    "from simon.header.pages import HeaderPage\n",
    "\n",
    "from selenium.webdriver.support.wait import WebDriverWait\n",
    "from selenium.webdriver.support import expected_conditions as EC\n",
    "from selenium.webdriver.common.by import By\n",
    "from selenium.webdriver.common.keys import Keys\n",
    "\n",
    "options = webdriver.ChromeOptions()\n",
    "\n",
    "options.add_argument('lang=en-US')\n",
    "options.add_argument('disable-infobars')\n",
    "options.add_argument(\"disable-notifications\")\n",
    "options.add_argument(\"disable-popup-blocking\")\n",
    "prefs = {'profile.default_content_setting_values' :  {  'notifications' : 2  }  }\n",
    "options.add_experimental_option(\"prefs\",prefs)\n",
    "\n",
    "# Creating the driver (browser)\n",
    "driver = webdriver.Chrome('/Users/fanmin/OneDrive/OneDrive - connect.hku.hk/Projects/cov19/version for sharing/Mac/chromedriver_mac')\n",
    "driver.maximize_window()\n",
    "\n",
    "# Login\n",
    "#       and uncheck the remember check box\n",
    "#       (Get your phone ready to read the QR code)\n",
    "login_page = LoginPage(driver)\n",
    "login_page.load()\n",
    "time.sleep(7)\n"
   ]
  },
  {
   "cell_type": "code",
   "execution_count": null,
   "metadata": {},
   "outputs": [],
   "source": []
  },
  {
   "cell_type": "code",
   "execution_count": null,
   "metadata": {},
   "outputs": [],
   "source": []
  },
  {
   "cell_type": "code",
   "execution_count": 2,
   "metadata": {},
   "outputs": [
    {
     "output_type": "error",
     "ename": "TimeoutException",
     "evalue": "Message: \n",
     "traceback": [
      "\u001b[0;31m---------------------------------------------------------------------------\u001b[0m",
      "\u001b[0;31mTimeoutException\u001b[0m                          Traceback (most recent call last)",
      "\u001b[0;32m<ipython-input-2-ed1efe2f84fc>\u001b[0m in \u001b[0;36m<module>\u001b[0;34m\u001b[0m\n\u001b[1;32m      1\u001b[0m \u001b[0minp_xpath_search\u001b[0m \u001b[0;34m=\u001b[0m \u001b[0;34m\"//div[text()='Search or start new chat']\"\u001b[0m\u001b[0;34m\u001b[0m\u001b[0;34m\u001b[0m\u001b[0m\n\u001b[1;32m      2\u001b[0m \u001b[0minp_xpath_search_cn\u001b[0m \u001b[0;34m=\u001b[0m \u001b[0;34m\"//div[class= '_2_1wd copyable-text selectable-tex' ]\"\u001b[0m\u001b[0;34m\u001b[0m\u001b[0;34m\u001b[0m\u001b[0m\n\u001b[0;32m----> 3\u001b[0;31m \u001b[0minput_box_search\u001b[0m \u001b[0;34m=\u001b[0m \u001b[0mWebDriverWait\u001b[0m\u001b[0;34m(\u001b[0m\u001b[0mdriver\u001b[0m\u001b[0;34m,\u001b[0m\u001b[0;36m50\u001b[0m\u001b[0;34m)\u001b[0m\u001b[0;34m.\u001b[0m\u001b[0muntil\u001b[0m\u001b[0;34m(\u001b[0m\u001b[0;32mlambda\u001b[0m \u001b[0mdriver\u001b[0m\u001b[0;34m:\u001b[0m \u001b[0mdriver\u001b[0m\u001b[0;34m.\u001b[0m\u001b[0mfind_element_by_xpath\u001b[0m\u001b[0;34m(\u001b[0m\u001b[0minp_xpath_search_cn\u001b[0m\u001b[0;34m)\u001b[0m\u001b[0;34m)\u001b[0m\u001b[0;34m\u001b[0m\u001b[0;34m\u001b[0m\u001b[0m\n\u001b[0m\u001b[1;32m      4\u001b[0m \u001b[0minput_box_search\u001b[0m\u001b[0;34m.\u001b[0m\u001b[0mclick\u001b[0m\u001b[0;34m(\u001b[0m\u001b[0;34m)\u001b[0m\u001b[0;34m\u001b[0m\u001b[0;34m\u001b[0m\u001b[0m\n\u001b[1;32m      5\u001b[0m \u001b[0mtime\u001b[0m\u001b[0;34m.\u001b[0m\u001b[0msleep\u001b[0m\u001b[0;34m(\u001b[0m\u001b[0;36m2\u001b[0m\u001b[0;34m)\u001b[0m\u001b[0;34m\u001b[0m\u001b[0;34m\u001b[0m\u001b[0m\n",
      "\u001b[0;32m/Library/Frameworks/Python.framework/Versions/3.9/lib/python3.9/site-packages/selenium/webdriver/support/wait.py\u001b[0m in \u001b[0;36muntil\u001b[0;34m(self, method, message)\u001b[0m\n\u001b[1;32m     78\u001b[0m             \u001b[0;32mif\u001b[0m \u001b[0mtime\u001b[0m\u001b[0;34m.\u001b[0m\u001b[0mtime\u001b[0m\u001b[0;34m(\u001b[0m\u001b[0;34m)\u001b[0m \u001b[0;34m>\u001b[0m \u001b[0mend_time\u001b[0m\u001b[0;34m:\u001b[0m\u001b[0;34m\u001b[0m\u001b[0;34m\u001b[0m\u001b[0m\n\u001b[1;32m     79\u001b[0m                 \u001b[0;32mbreak\u001b[0m\u001b[0;34m\u001b[0m\u001b[0;34m\u001b[0m\u001b[0m\n\u001b[0;32m---> 80\u001b[0;31m         \u001b[0;32mraise\u001b[0m \u001b[0mTimeoutException\u001b[0m\u001b[0;34m(\u001b[0m\u001b[0mmessage\u001b[0m\u001b[0;34m,\u001b[0m \u001b[0mscreen\u001b[0m\u001b[0;34m,\u001b[0m \u001b[0mstacktrace\u001b[0m\u001b[0;34m)\u001b[0m\u001b[0;34m\u001b[0m\u001b[0;34m\u001b[0m\u001b[0m\n\u001b[0m\u001b[1;32m     81\u001b[0m \u001b[0;34m\u001b[0m\u001b[0m\n\u001b[1;32m     82\u001b[0m     \u001b[0;32mdef\u001b[0m \u001b[0muntil_not\u001b[0m\u001b[0;34m(\u001b[0m\u001b[0mself\u001b[0m\u001b[0;34m,\u001b[0m \u001b[0mmethod\u001b[0m\u001b[0;34m,\u001b[0m \u001b[0mmessage\u001b[0m\u001b[0;34m=\u001b[0m\u001b[0;34m''\u001b[0m\u001b[0;34m)\u001b[0m\u001b[0;34m:\u001b[0m\u001b[0;34m\u001b[0m\u001b[0;34m\u001b[0m\u001b[0m\n",
      "\u001b[0;31mTimeoutException\u001b[0m: Message: \n"
     ]
    }
   ],
   "source": [
    "inp_xpath_search = \"//div[text()='Search or start new chat']\"\n",
    "inp_xpath_search_cn = \"//div[class= '_2_1wd copyable-text selectable-tex' ]\"\n",
    "input_box_search = WebDriverWait(driver,50).until(lambda driver: driver.find_element_by_xpath(inp_xpath_search_cn))\n",
    "input_box_search.click()\n",
    "time.sleep(2)\n"
   ]
  },
  {
   "cell_type": "code",
   "execution_count": 302,
   "metadata": {},
   "outputs": [],
   "source": [
    "element = driver.find_elements_by_css_selector(\"div[class='_1JAUF _1d1OL'] div[class~='_2_1wd']\")\n",
    "my_desired_number = \"59332417\"\n",
    "driver.execute_script(\"arguments[0].innerText = \"+my_desired_number, element[0])\n",
    "width,height = pg.size()\n",
    "pg.click(width/2,height/2)\n",
    "time.sleep(20-2)\n",
    "pg.press('enter')\n"
   ]
  },
  {
   "cell_type": "code",
   "execution_count": 312,
   "metadata": {},
   "outputs": [
    {
     "output_type": "execute_result",
     "data": {
      "text/plain": [
       "<selenium.webdriver.remote.webelement.WebElement (session=\"7f06e0e1e20ab70c44be3ff95e8ab8c8\", element=\"57d4daa1-12d6-4f08-847f-b72b2712306a\")>"
      ]
     },
     "metadata": {},
     "execution_count": 312
    }
   ],
   "source": [
    "\n",
    "wait.until(EC.presence_of_element_located((By.CLASS_NAME, '_1E0Oz')))"
   ]
  },
  {
   "cell_type": "code",
   "execution_count": 21,
   "metadata": {},
   "outputs": [
    {
     "output_type": "stream",
     "name": "stdout",
     "text": [
      "yes\n",
      "yes\n",
      "yes\n",
      "yes\n"
     ]
    }
   ],
   "source": [
    "wait = WebDriverWait(driver, 15 ,1)\n",
    "for i in [1,2,3,4]:\n",
    "    link = 'https://web.whatsapp.com/send?phone=85259332407&text='+str(i)\n",
    "    driver.get(link)\n",
    "    driver.execute_script(\"window.onunload=null; window.onbeforeunload=null\")\n",
    "    wait.until(EC.presence_of_element_located((By.CLASS_NAME, \"_3QfZd\")))\n",
    "    print(\"yes\")\n",
    "    time.sleep(2)"
   ]
  },
  {
   "cell_type": "code",
   "execution_count": 235,
   "metadata": {},
   "outputs": [
    {
     "output_type": "error",
     "ename": "AttributeError",
     "evalue": "'list' object has no attribute 'click'",
     "traceback": [
      "\u001b[0;31m---------------------------------------------------------------------------\u001b[0m",
      "\u001b[0;31mAttributeError\u001b[0m                            Traceback (most recent call last)",
      "\u001b[0;32m<ipython-input-235-98952003512f>\u001b[0m in \u001b[0;36m<module>\u001b[0;34m\u001b[0m\n\u001b[1;32m      2\u001b[0m \u001b[0mmy_desired_text\u001b[0m \u001b[0;34m=\u001b[0m \u001b[0;34m\"lzylzylzy\"\u001b[0m\u001b[0;34m\u001b[0m\u001b[0;34m\u001b[0m\u001b[0m\n\u001b[1;32m      3\u001b[0m \u001b[0melement\u001b[0m \u001b[0;34m=\u001b[0m \u001b[0mdriver\u001b[0m\u001b[0;34m.\u001b[0m\u001b[0mfind_elements_by_css_selector\u001b[0m\u001b[0;34m(\u001b[0m\u001b[0;34m\"div[class~='_2_1wd copyable-text selectable-text']\"\u001b[0m\u001b[0;34m)\u001b[0m\u001b[0;34m\u001b[0m\u001b[0;34m\u001b[0m\u001b[0m\n\u001b[0;32m----> 4\u001b[0;31m \u001b[0melement\u001b[0m\u001b[0;34m.\u001b[0m\u001b[0mclick\u001b[0m\u001b[0;34m(\u001b[0m\u001b[0;34m)\u001b[0m\u001b[0;34m\u001b[0m\u001b[0;34m\u001b[0m\u001b[0m\n\u001b[0m\u001b[1;32m      5\u001b[0m \u001b[0mdriver\u001b[0m\u001b[0;34m.\u001b[0m\u001b[0mexecute_script\u001b[0m\u001b[0;34m(\u001b[0m\u001b[0;34m\"arguments[0].innerHTML = 'test'\"\u001b[0m\u001b[0;34m,\u001b[0m \u001b[0melement\u001b[0m\u001b[0;34m)\u001b[0m\u001b[0;34m\u001b[0m\u001b[0;34m\u001b[0m\u001b[0m\n",
      "\u001b[0;31mAttributeError\u001b[0m: 'list' object has no attribute 'click'"
     ]
    }
   ],
   "source": [
    "driver.find_element_by_class_name('_1Ek-U').click()\n",
    "\n",
    "element = driver.find_elements_by_css_selector(\"div[~='class_2_1wd copyable-text selectable-text']\")\n",
    "element.click()\n",
    "\n",
    "driver.execute_script(\"arguments[0].innerHTML = 'test'\", element)"
   ]
  },
  {
   "cell_type": "code",
   "execution_count": 232,
   "metadata": {},
   "outputs": [
    {
     "output_type": "error",
     "ename": "TimeoutException",
     "evalue": "Message: \n",
     "traceback": [
      "\u001b[0;31m---------------------------------------------------------------------------\u001b[0m",
      "\u001b[0;31mTimeoutException\u001b[0m                          Traceback (most recent call last)",
      "\u001b[0;32m<ipython-input-232-765bdae9a458>\u001b[0m in \u001b[0;36m<module>\u001b[0;34m\u001b[0m\n\u001b[1;32m      1\u001b[0m \u001b[0minp_xpath\u001b[0m \u001b[0;34m=\u001b[0m \u001b[0;34m'//div[@class=\"_2_1wd copyable-text selectable-text\"][@dir=\"ltr\"][@data-tab=\"2\"]'\u001b[0m\u001b[0;34m\u001b[0m\u001b[0;34m\u001b[0m\u001b[0m\n\u001b[0;32m----> 2\u001b[0;31m \u001b[0minput_box\u001b[0m \u001b[0;34m=\u001b[0m \u001b[0mWebDriverWait\u001b[0m\u001b[0;34m(\u001b[0m\u001b[0mdriver\u001b[0m\u001b[0;34m,\u001b[0m \u001b[0;36m20\u001b[0m\u001b[0;34m,\u001b[0m \u001b[0;36m0.5\u001b[0m\u001b[0;34m)\u001b[0m\u001b[0;34m.\u001b[0m\u001b[0muntil\u001b[0m\u001b[0;34m(\u001b[0m\u001b[0mEC\u001b[0m\u001b[0;34m.\u001b[0m\u001b[0mpresence_of_element_located\u001b[0m\u001b[0;34m(\u001b[0m\u001b[0;34m(\u001b[0m\u001b[0mBy\u001b[0m\u001b[0;34m.\u001b[0m\u001b[0mXPATH\u001b[0m\u001b[0;34m,\u001b[0m \u001b[0minp_xpath\u001b[0m\u001b[0;34m)\u001b[0m\u001b[0;34m)\u001b[0m\u001b[0;34m)\u001b[0m\u001b[0;34m\u001b[0m\u001b[0;34m\u001b[0m\u001b[0m\n\u001b[0m",
      "\u001b[0;32m/Library/Frameworks/Python.framework/Versions/3.9/lib/python3.9/site-packages/selenium/webdriver/support/wait.py\u001b[0m in \u001b[0;36muntil\u001b[0;34m(self, method, message)\u001b[0m\n\u001b[1;32m     78\u001b[0m             \u001b[0;32mif\u001b[0m \u001b[0mtime\u001b[0m\u001b[0;34m.\u001b[0m\u001b[0mtime\u001b[0m\u001b[0;34m(\u001b[0m\u001b[0;34m)\u001b[0m \u001b[0;34m>\u001b[0m \u001b[0mend_time\u001b[0m\u001b[0;34m:\u001b[0m\u001b[0;34m\u001b[0m\u001b[0;34m\u001b[0m\u001b[0m\n\u001b[1;32m     79\u001b[0m                 \u001b[0;32mbreak\u001b[0m\u001b[0;34m\u001b[0m\u001b[0;34m\u001b[0m\u001b[0m\n\u001b[0;32m---> 80\u001b[0;31m         \u001b[0;32mraise\u001b[0m \u001b[0mTimeoutException\u001b[0m\u001b[0;34m(\u001b[0m\u001b[0mmessage\u001b[0m\u001b[0;34m,\u001b[0m \u001b[0mscreen\u001b[0m\u001b[0;34m,\u001b[0m \u001b[0mstacktrace\u001b[0m\u001b[0;34m)\u001b[0m\u001b[0;34m\u001b[0m\u001b[0;34m\u001b[0m\u001b[0m\n\u001b[0m\u001b[1;32m     81\u001b[0m \u001b[0;34m\u001b[0m\u001b[0m\n\u001b[1;32m     82\u001b[0m     \u001b[0;32mdef\u001b[0m \u001b[0muntil_not\u001b[0m\u001b[0;34m(\u001b[0m\u001b[0mself\u001b[0m\u001b[0;34m,\u001b[0m \u001b[0mmethod\u001b[0m\u001b[0;34m,\u001b[0m \u001b[0mmessage\u001b[0m\u001b[0;34m=\u001b[0m\u001b[0;34m''\u001b[0m\u001b[0;34m)\u001b[0m\u001b[0;34m:\u001b[0m\u001b[0;34m\u001b[0m\u001b[0;34m\u001b[0m\u001b[0m\n",
      "\u001b[0;31mTimeoutException\u001b[0m: Message: \n"
     ]
    }
   ],
   "source": [
    "inp_xpath = '//div[@class=\"_2_1wd copyable-text selectable-text\"][@dir=\"ltr\"][@data-tab=\"2\"]'\n",
    "input_box = WebDriverWait(driver, 20, 0.5).until(EC.presence_of_element_located((By.XPATH, inp_xpath))) "
   ]
  },
  {
   "cell_type": "code",
   "execution_count": null,
   "metadata": {},
   "outputs": [],
   "source": [
    "input_box.send_keys(\"85259332417\") "
   ]
  },
  {
   "cell_type": "code",
   "execution_count": 165,
   "metadata": {
    "tags": []
   },
   "outputs": [
    {
     "output_type": "error",
     "ename": "WebDriverException",
     "evalue": "Message: chrome not reachable\n  (Session info: chrome=89.0.4389.82)\n",
     "traceback": [
      "\u001b[0;31m---------------------------------------------------------------------------\u001b[0m",
      "\u001b[0;31mWebDriverException\u001b[0m                        Traceback (most recent call last)",
      "\u001b[0;32m<ipython-input-165-d605e7a688e4>\u001b[0m in \u001b[0;36m<module>\u001b[0;34m\u001b[0m\n\u001b[1;32m      1\u001b[0m \u001b[0mlink\u001b[0m \u001b[0;34m=\u001b[0m \u001b[0;34m'https://web.whatsapp.com/send?phone=85259332407&text=test'\u001b[0m\u001b[0;34m\u001b[0m\u001b[0;34m\u001b[0m\u001b[0m\n\u001b[0;32m----> 2\u001b[0;31m \u001b[0mdriver\u001b[0m\u001b[0;34m.\u001b[0m\u001b[0mget\u001b[0m\u001b[0;34m(\u001b[0m\u001b[0mlink\u001b[0m\u001b[0;34m)\u001b[0m\u001b[0;34m\u001b[0m\u001b[0;34m\u001b[0m\u001b[0m\n\u001b[0m\u001b[1;32m      3\u001b[0m \u001b[0mdriver\u001b[0m\u001b[0;34m.\u001b[0m\u001b[0mexecute_script\u001b[0m\u001b[0;34m(\u001b[0m\u001b[0;34m\"window.onunload=null; window.onbeforeunload=null\"\u001b[0m\u001b[0;34m)\u001b[0m\u001b[0;34m\u001b[0m\u001b[0;34m\u001b[0m\u001b[0m\n\u001b[1;32m      4\u001b[0m \u001b[0mtime\u001b[0m\u001b[0;34m.\u001b[0m\u001b[0msleep\u001b[0m\u001b[0;34m(\u001b[0m\u001b[0;36m2\u001b[0m\u001b[0;34m)\u001b[0m\u001b[0;34m\u001b[0m\u001b[0;34m\u001b[0m\u001b[0m\n\u001b[1;32m      5\u001b[0m \u001b[0mWebDriverWait\u001b[0m\u001b[0;34m(\u001b[0m\u001b[0mdriver\u001b[0m\u001b[0;34m,\u001b[0m \u001b[0;36m20\u001b[0m\u001b[0;34m,\u001b[0m \u001b[0;36m0.5\u001b[0m\u001b[0;34m)\u001b[0m\u001b[0;34m.\u001b[0m\u001b[0muntil\u001b[0m\u001b[0;34m(\u001b[0m\u001b[0mEC\u001b[0m\u001b[0;34m.\u001b[0m\u001b[0mpresence_of_element_located\u001b[0m\u001b[0;34m(\u001b[0m\u001b[0;34m(\u001b[0m\u001b[0mBy\u001b[0m\u001b[0;34m.\u001b[0m\u001b[0mCLASS_NAME\u001b[0m\u001b[0;34m,\u001b[0m \u001b[0;34m'_1E0Oz'\u001b[0m\u001b[0;34m)\u001b[0m\u001b[0;34m)\u001b[0m\u001b[0;34m)\u001b[0m\u001b[0;34m\u001b[0m\u001b[0;34m\u001b[0m\u001b[0m\n",
      "\u001b[0;32m/Library/Frameworks/Python.framework/Versions/3.9/lib/python3.9/site-packages/selenium/webdriver/remote/webdriver.py\u001b[0m in \u001b[0;36mget\u001b[0;34m(self, url)\u001b[0m\n\u001b[1;32m    331\u001b[0m         \u001b[0mLoads\u001b[0m \u001b[0ma\u001b[0m \u001b[0mweb\u001b[0m \u001b[0mpage\u001b[0m \u001b[0;32min\u001b[0m \u001b[0mthe\u001b[0m \u001b[0mcurrent\u001b[0m \u001b[0mbrowser\u001b[0m \u001b[0msession\u001b[0m\u001b[0;34m.\u001b[0m\u001b[0;34m\u001b[0m\u001b[0;34m\u001b[0m\u001b[0m\n\u001b[1;32m    332\u001b[0m         \"\"\"\n\u001b[0;32m--> 333\u001b[0;31m         \u001b[0mself\u001b[0m\u001b[0;34m.\u001b[0m\u001b[0mexecute\u001b[0m\u001b[0;34m(\u001b[0m\u001b[0mCommand\u001b[0m\u001b[0;34m.\u001b[0m\u001b[0mGET\u001b[0m\u001b[0;34m,\u001b[0m \u001b[0;34m{\u001b[0m\u001b[0;34m'url'\u001b[0m\u001b[0;34m:\u001b[0m \u001b[0murl\u001b[0m\u001b[0;34m}\u001b[0m\u001b[0;34m)\u001b[0m\u001b[0;34m\u001b[0m\u001b[0;34m\u001b[0m\u001b[0m\n\u001b[0m\u001b[1;32m    334\u001b[0m \u001b[0;34m\u001b[0m\u001b[0m\n\u001b[1;32m    335\u001b[0m     \u001b[0;34m@\u001b[0m\u001b[0mproperty\u001b[0m\u001b[0;34m\u001b[0m\u001b[0;34m\u001b[0m\u001b[0m\n",
      "\u001b[0;32m/Library/Frameworks/Python.framework/Versions/3.9/lib/python3.9/site-packages/selenium/webdriver/remote/webdriver.py\u001b[0m in \u001b[0;36mexecute\u001b[0;34m(self, driver_command, params)\u001b[0m\n\u001b[1;32m    319\u001b[0m         \u001b[0mresponse\u001b[0m \u001b[0;34m=\u001b[0m \u001b[0mself\u001b[0m\u001b[0;34m.\u001b[0m\u001b[0mcommand_executor\u001b[0m\u001b[0;34m.\u001b[0m\u001b[0mexecute\u001b[0m\u001b[0;34m(\u001b[0m\u001b[0mdriver_command\u001b[0m\u001b[0;34m,\u001b[0m \u001b[0mparams\u001b[0m\u001b[0;34m)\u001b[0m\u001b[0;34m\u001b[0m\u001b[0;34m\u001b[0m\u001b[0m\n\u001b[1;32m    320\u001b[0m         \u001b[0;32mif\u001b[0m \u001b[0mresponse\u001b[0m\u001b[0;34m:\u001b[0m\u001b[0;34m\u001b[0m\u001b[0;34m\u001b[0m\u001b[0m\n\u001b[0;32m--> 321\u001b[0;31m             \u001b[0mself\u001b[0m\u001b[0;34m.\u001b[0m\u001b[0merror_handler\u001b[0m\u001b[0;34m.\u001b[0m\u001b[0mcheck_response\u001b[0m\u001b[0;34m(\u001b[0m\u001b[0mresponse\u001b[0m\u001b[0;34m)\u001b[0m\u001b[0;34m\u001b[0m\u001b[0;34m\u001b[0m\u001b[0m\n\u001b[0m\u001b[1;32m    322\u001b[0m             response['value'] = self._unwrap_value(\n\u001b[1;32m    323\u001b[0m                 response.get('value', None))\n",
      "\u001b[0;32m/Library/Frameworks/Python.framework/Versions/3.9/lib/python3.9/site-packages/selenium/webdriver/remote/errorhandler.py\u001b[0m in \u001b[0;36mcheck_response\u001b[0;34m(self, response)\u001b[0m\n\u001b[1;32m    240\u001b[0m                 \u001b[0malert_text\u001b[0m \u001b[0;34m=\u001b[0m \u001b[0mvalue\u001b[0m\u001b[0;34m[\u001b[0m\u001b[0;34m'alert'\u001b[0m\u001b[0;34m]\u001b[0m\u001b[0;34m.\u001b[0m\u001b[0mget\u001b[0m\u001b[0;34m(\u001b[0m\u001b[0;34m'text'\u001b[0m\u001b[0;34m)\u001b[0m\u001b[0;34m\u001b[0m\u001b[0;34m\u001b[0m\u001b[0m\n\u001b[1;32m    241\u001b[0m             \u001b[0;32mraise\u001b[0m \u001b[0mexception_class\u001b[0m\u001b[0;34m(\u001b[0m\u001b[0mmessage\u001b[0m\u001b[0;34m,\u001b[0m \u001b[0mscreen\u001b[0m\u001b[0;34m,\u001b[0m \u001b[0mstacktrace\u001b[0m\u001b[0;34m,\u001b[0m \u001b[0malert_text\u001b[0m\u001b[0;34m)\u001b[0m\u001b[0;34m\u001b[0m\u001b[0;34m\u001b[0m\u001b[0m\n\u001b[0;32m--> 242\u001b[0;31m         \u001b[0;32mraise\u001b[0m \u001b[0mexception_class\u001b[0m\u001b[0;34m(\u001b[0m\u001b[0mmessage\u001b[0m\u001b[0;34m,\u001b[0m \u001b[0mscreen\u001b[0m\u001b[0;34m,\u001b[0m \u001b[0mstacktrace\u001b[0m\u001b[0;34m)\u001b[0m\u001b[0;34m\u001b[0m\u001b[0;34m\u001b[0m\u001b[0m\n\u001b[0m\u001b[1;32m    243\u001b[0m \u001b[0;34m\u001b[0m\u001b[0m\n\u001b[1;32m    244\u001b[0m     \u001b[0;32mdef\u001b[0m \u001b[0m_value_or_default\u001b[0m\u001b[0;34m(\u001b[0m\u001b[0mself\u001b[0m\u001b[0;34m,\u001b[0m \u001b[0mobj\u001b[0m\u001b[0;34m,\u001b[0m \u001b[0mkey\u001b[0m\u001b[0;34m,\u001b[0m \u001b[0mdefault\u001b[0m\u001b[0;34m)\u001b[0m\u001b[0;34m:\u001b[0m\u001b[0;34m\u001b[0m\u001b[0;34m\u001b[0m\u001b[0m\n",
      "\u001b[0;31mWebDriverException\u001b[0m: Message: chrome not reachable\n  (Session info: chrome=89.0.4389.82)\n"
     ]
    }
   ],
   "source": [
    "link = 'https://web.whatsapp.com/send?phone=85259332407&text=test'\n",
    "driver.get(link)\n",
    "driver.execute_script(\"window.onunload=null; window.onbeforeunload=null\")\n",
    "time.sleep(2)\n",
    "WebDriverWait(driver, 20, 0.5).until(EC.presence_of_element_located((By.CLASS_NAME, '_1E0Oz'))) \n",
    "chat_box = driver.find_element_by_class_name('_1E0Oz')\n",
    "chat_box.click()\n",
    "test = driver.find_elements_by_css_selector(\"div[class='_11liR'] div[class~='GDTQm']:last-of-type div[class='_2nWgr'] span\")\n",
    "test = driver.find_elements_by_css_selector(\"div[class='_11liR'] div[class~='GDTQm']:last-of-type div[class='UFTvj'] span\")\n",
    "status = str(test[0].get_attribute(\"aria-label\").strip())\n",
    "#test1 = test[0].find_elements_by_css_selector(\"span[class~='_1RD_6']\")\n",
    "if status in [\"等待中\",\"已读取\"]:\n",
    "    print(\"OK\")"
   ]
  },
  {
   "cell_type": "code",
   "execution_count": 131,
   "metadata": {},
   "outputs": [
    {
     "output_type": "execute_result",
     "data": {
      "text/plain": [
       "' 已读取 '"
      ]
     },
     "metadata": {},
     "execution_count": 131
    }
   ],
   "source": [
    "test[0].get_attribute(\"aria-label\")"
   ]
  },
  {
   "cell_type": "code",
   "execution_count": 161,
   "metadata": {},
   "outputs": [
    {
     "output_type": "execute_result",
     "data": {
      "text/plain": [
       "'00:03'"
      ]
     },
     "metadata": {},
     "execution_count": 161
    }
   ],
   "source": []
  },
  {
   "cell_type": "code",
   "execution_count": 163,
   "metadata": {},
   "outputs": [
    {
     "output_type": "execute_result",
     "data": {
      "text/plain": [
       "False"
      ]
     },
     "metadata": {},
     "execution_count": 163
    }
   ],
   "source": []
  },
  {
   "cell_type": "code",
   "execution_count": null,
   "metadata": {},
   "outputs": [],
   "source": []
  },
  {
   "cell_type": "code",
   "execution_count": 170,
   "metadata": {},
   "outputs": [
    {
     "output_type": "error",
     "ename": "NameError",
     "evalue": "name 'time_of_click' is not defined",
     "traceback": [
      "\u001b[0;31m---------------------------------------------------------------------------\u001b[0m",
      "\u001b[0;31mNameError\u001b[0m                                 Traceback (most recent call last)",
      "\u001b[0;32m<ipython-input-170-f50efaebd1ac>\u001b[0m in \u001b[0;36m<module>\u001b[0;34m\u001b[0m\n\u001b[0;32m----> 1\u001b[0;31m \u001b[0;34m[\u001b[0m\u001b[0mi\u001b[0m\u001b[0;34m.\u001b[0m\u001b[0mget_attribute\u001b[0m\u001b[0;34m(\u001b[0m\u001b[0;34m\"aria-label\"\u001b[0m\u001b[0;34m)\u001b[0m \u001b[0;32mfor\u001b[0m \u001b[0mi\u001b[0m \u001b[0;32min\u001b[0m \u001b[0mdriver\u001b[0m\u001b[0;34m.\u001b[0m\u001b[0mfind_elements_by_css_selector\u001b[0m\u001b[0;34m(\u001b[0m\u001b[0;34m\"div[class='_2zWo9'] div[class='UFTvj'] div[class='_2nWgr'] span\"\u001b[0m\u001b[0;34m)\u001b[0m\u001b[0;34m]\u001b[0m\u001b[0;34m[\u001b[0m\u001b[0mtemp_list\u001b[0m\u001b[0;34m.\u001b[0m\u001b[0mindex\u001b[0m\u001b[0;34m(\u001b[0m\u001b[0mtime_of_click\u001b[0m\u001b[0;34m)\u001b[0m\u001b[0;34m]\u001b[0m\u001b[0;34m\u001b[0m\u001b[0;34m\u001b[0m\u001b[0m\n\u001b[0m",
      "\u001b[0;31mNameError\u001b[0m: name 'time_of_click' is not defined"
     ]
    }
   ],
   "source": [
    "[i.get_attribute(\"aria-label\") for i in driver.find_elements_by_css_selector(\"div[class='_2zWo9'] div[class='UFTvj'] div[class='_2nWgr'] span\")][temp_list.index(time_of_click)]"
   ]
  },
  {
   "cell_type": "code",
   "execution_count": 147,
   "metadata": {},
   "outputs": [],
   "source": []
  },
  {
   "cell_type": "code",
   "execution_count": 191,
   "metadata": {},
   "outputs": [
    {
     "output_type": "execute_result",
     "data": {
      "text/plain": [
       "['Vivien',\n",
       " '+852 9450 6729',\n",
       " 'Miriam',\n",
       " '廣州醫科大學香港校友會',\n",
       " '渣烦',\n",
       " '烦死人他娘烦死你他妈',\n",
       " 'CSMPR current <img crossorigin=\"anonymous\" src=\"data:image/gif;base64,R0lGODlhAQABAIAAAAAAAP///yH5BAEAAAAALAAAAAABAAEAAAIBRAA7\" alt=\"✌\" draggable=\"false\" class=\"b7 emoji apple _3-8er\" style=\"background-position: -20px 0px;\">',\n",
       " 'CARE part 4',\n",
       " 'Ocean park <img crossorigin=\"anonymous\" src=\"data:image/gif;base64,R0lGODlhAQABAIAAAAAAAP///yH5BAEAAAAALAAAAAABAAEAAAIBRAA7\" alt=\"🤣\" draggable=\"false\" class=\"b97 emoji apple _3-8er\" style=\"background-position: 0px -20px;\"><img crossorigin=\"anonymous\" src=\"data:image/gif;base64,R0lGODlhAQABAIAAAAAAAP///yH5BAEAAAAALAAAAAABAAEAAAIBRAA7\" alt=\"🤣\" draggable=\"false\" class=\"b97 emoji apple _3-8er\" style=\"background-position: 0px -20px;\">',\n",
       " 'CARE4 recruitment buddy<img crossorigin=\"anonymous\" src=\"data:image/gif;base64,R0lGODlhAQABAIAAAAAAAP///yH5BAEAAAAALAAAAAABAAEAAAIBRAA7\" alt=\"🧑\\u200d🦲\" draggable=\"false\" class=\"b115 emoji apple _3-8er\" style=\"background-position: -80px 0px;\">',\n",
       " 'Lauren ',\n",
       " 'Renovation HKU',\n",
       " 'Edward Chen',\n",
       " 'YAN Vincent',\n",
       " 'Head',\n",
       " '高乐',\n",
       " 'Jorden',\n",
       " 'Edmund']"
      ]
     },
     "metadata": {},
     "execution_count": 191
    }
   ],
   "source": [
    "all_notification_new =driver.find_elements_by_css_selector(\"div[class='TbtXF'] div[class='_2pkLM'] div[class='_3Dr46'] span[dir='auto']\")\n",
    "[i.get_attribute(\"innerHTML\") for i in all_notification_new]"
   ]
  },
  {
   "cell_type": "code",
   "execution_count": 192,
   "metadata": {},
   "outputs": [
    {
     "output_type": "execute_result",
     "data": {
      "text/plain": [
       "['No',\n",
       " 'No',\n",
       " 'No',\n",
       " 'No',\n",
       " 'No',\n",
       " 'No',\n",
       " 'No',\n",
       " 'No',\n",
       " 'No',\n",
       " 'No',\n",
       " 'No',\n",
       " 'No',\n",
       " 'No',\n",
       " 'No',\n",
       " 'No',\n",
       " 'No',\n",
       " 'No',\n",
       " 'No']"
      ]
     },
     "metadata": {},
     "execution_count": 192
    }
   ],
   "source": [
    "all_notification_new =driver.find_elements_by_css_selector(\"div[class='TbtXF'] div[class='_1SjZ2'] div[class='_15smv']\")\n",
    "[\"New\" if len(i.find_elements_by_css_selector(\"span[class='_38M1B']\"))>0 else \"No\"  for i in all_notification_new]"
   ]
  },
  {
   "cell_type": "code",
   "execution_count": 193,
   "metadata": {},
   "outputs": [],
   "source": [
    "temp_list = [i.get_attribute(\"innerHTML\") for i in driver.find_elements_by_css_selector(\"div[class='_2zWo9'] div[class='UFTvj'] span[class='_17Osw']\")]\n"
   ]
  },
  {
   "cell_type": "code",
   "execution_count": 172,
   "metadata": {},
   "outputs": [
    {
     "output_type": "execute_result",
     "data": {
      "text/plain": [
       "[]"
      ]
     },
     "metadata": {},
     "execution_count": 172
    }
   ],
   "source": [
    "[i.get_attribute(\"innerHTML\") for i in driver.find_elements_by_css_selector(\"div[class='_2zWo9'] div[class='UFTvj'] div[class='_17Osw'] span\")]"
   ]
  },
  {
   "cell_type": "code",
   "execution_count": 154,
   "metadata": {},
   "outputs": [
    {
     "output_type": "execute_result",
     "data": {
      "text/plain": [
       "[' 已递送 ',\n",
       " ' 已递送 ',\n",
       " ' 已递送 ',\n",
       " ' 已递送 ',\n",
       " ' 已递送 ',\n",
       " ' 已递送 ',\n",
       " ' 已递送 ',\n",
       " ' 已递送 ',\n",
       " ' 已递送 ']"
      ]
     },
     "metadata": {},
     "execution_count": 154
    }
   ],
   "source": [
    "[i.get_attribute(\"aria-label\") for i in driver.find_elements_by_css_selector(\"div[class='_2zWo9'] div[class='UFTvj'] div[class='_2nWgr'] span\")][temp_list.index(time_of_click)]"
   ]
  },
  {
   "cell_type": "code",
   "execution_count": 14,
   "metadata": {},
   "outputs": [],
   "source": [
    "test = driver.find_elements_by_class_name(\"_1RD_6\")"
   ]
  },
  {
   "cell_type": "code",
   "execution_count": 197,
   "metadata": {
    "tags": []
   },
   "outputs": [
    {
     "output_type": "stream",
     "name": "stdout",
     "text": [
      "haha\n",
      "\n",
      "\n",
      "23 missed\n",
      "\n",
      "\n",
      "<a href=\"https://www.qualtrics.com/support/survey-platform/survey-module/survey-checker/common-user-mistakes/\" title=\"https://www.qualtrics.com/support/survey-platform/survey-module/survey-checker/common-user-mistakes/\" target=\"_blank\" rel=\"noopener noreferrer\" class=\"_3-8er selectable-text copyable-text\">https://www.qualtrics.com/support/survey-platform/survey-module/survey-checker/common-user-mistakes/</a>\n",
      "\n",
      "\n",
      "楊会您忙，与一些校友又在第一線工作，我閒置，整理些資料，有對比地讓大家参考一下<img crossorigin=\"anonymous\" src=\"data:image/gif;base64,R0lGODlhAQABAIAAAAAAAP///yH5BAEAAAAALAAAAAABAAEAAAIBRAA7\" alt=\"👌\" draggable=\"false\" class=\"b39 emoji apple _3-8er selectable-text copyable-text\" data-plain-text=\"👌\" style=\"background-position: -60px -20px;\">\n",
      "\n",
      "\n",
      "f\n",
      "\n",
      "\n",
      "发一个给我\n",
      "\n",
      "\n",
      "no, i will think other possible methods. In the meanwhile, i am trying to extract those reply msg for you guys. do u think that can save your time?\n",
      "\n",
      "\n",
      "who has lab coat n lanyard with u now?\n",
      "\n",
      "\n",
      "going up?\n",
      "\n",
      "\n",
      "This is our updated schedule, can you please fill in your time slot below please? Thank you very much. (Aiming one time slot for each of us every week, rotation for this week: FM, Grace, Kailin, Miriam, Vanessa, Vincent, Vivien\n",
      "<strong class=\"_3-8er selectable-text copyable-text\" data-app-text-template=\"*${appText}*\">Central library:</strong>\n",
      "Monday: Kailin\n",
      "Wednesday:\n",
      "Friday: Miriam\n",
      "<strong class=\"_3-8er selectable-text copyable-text\" data-app-text-template=\"*${appText}*\">ALC:</strong>\n",
      "Monday: Vincent\n",
      "Thursday:\n",
      "\n",
      "\n",
      "he will help post to jobsdb  , cpjobs ( of SCMP), and ctgoodjobs (of HKET)\n",
      "\n",
      "\n",
      "Thanks\n",
      "\n",
      "\n",
      "<a href=\"https://biontechdilution-hkupharm-shphk.hk/\" title=\"https://biontechdilution-hkupharm-shphk.hk/\" target=\"_blank\" rel=\"noopener noreferrer\" class=\"_3-8er selectable-text copyable-text\">https://biontechdilution-hkupharm-shphk.hk/</a>\n",
      "\n",
      "\n",
      "Dear Irene ,\n",
      "Thank you for your support to “COVID-19 vaccines Adverse events Response and Evaluation (CARE) Programme: Intensive Monitoring” of the Department of Pharmacology and Pharmacy, HKU. We are following up on vaccine recipients about any adverse reactions you have. We will follow-up on the 1, 2, 3 days and 1, 2, 4 weeks after your dose of vaccine.\n",
      "-------\n",
      "We sent out the online survey link to you via SMS or email this morning. The survey will only take 2 minutes. It would be appreciated if you can spare a few minutes to let us know your current conditions. \n",
      "-------\n",
      "<strong class=\"_3-8er selectable-text copyable-text\" data-app-text-template=\"*${appText}*\">Or you can also reply with your adverse reactions or reply “No adverse reactions or unusual symptoms” to our WhatsApp to complete the survey.</strong>\n",
      "---------\n",
      "<strong class=\"_3-8er selectable-text copyable-text\" data-app-text-template=\"*${appText}*\">Please disregard this message if you</strong>…\n",
      "\n",
      "\n",
      "Dear Gaole ,\n",
      "Thank you for your support to “COVID-19 vaccines Adverse events Response and Evaluation (CARE) Programme: Intensive Monitoring” of the Department of Pharmacology and Pharmacy, HKU. We are following up on vaccine recipients about any adverse reactions you have. We will follow-up on the 1, 2, 3 days and 1, 2, 4 weeks after your dose of vaccine.\n",
      "-------\n",
      "We sent out the online survey link to you via SMS or email this morning. The survey will only take 2 minutes. It would be appreciated if you can spare a few minutes to let us know your current conditions. \n",
      "-------\n",
      "<strong class=\"_3-8er selectable-text copyable-text\" data-app-text-template=\"*${appText}*\">Or you can also reply with your adverse reactions or reply “No adverse reactions or unusual symptoms” to our WhatsApp to complete the survey.</strong>\n",
      "---------\n",
      "<strong class=\"_3-8er selectable-text copyable-text\" data-app-text-template=\"*${appText}*\">Please disregard this message if you</strong>…\n",
      "\n",
      "\n",
      "<img crossorigin=\"anonymous\" src=\"data:image/gif;base64,R0lGODlhAQABAIAAAAAAAP///yH5BAEAAAAALAAAAAABAAEAAAIBRAA7\" alt=\"🤣\" draggable=\"false\" class=\"b97 emoji apple _3-8er selectable-text copyable-text\" data-plain-text=\"🤣\" style=\"background-position: 0px -20px;\"><img crossorigin=\"anonymous\" src=\"data:image/gif;base64,R0lGODlhAQABAIAAAAAAAP///yH5BAEAAAAALAAAAAABAAEAAAIBRAA7\" alt=\"🤣\" draggable=\"false\" class=\"b97 emoji apple _3-8er selectable-text copyable-text\" data-plain-text=\"🤣\" style=\"background-position: 0px -20px;\">Thank uuu\n",
      "\n",
      "\n",
      "sender app fixed. changed to v4.\n",
      "\n",
      "\n"
     ]
    }
   ],
   "source": [
    "\n",
    "contacts  = driver.find_elements_by_css_selector(\"div[class='_2aBzC']\")\n",
    "for contact in contacts:\n",
    "    contact.click()\n",
    "    msg_all = driver.find_element_by_css_selector(\"div[class='_11liR']\")\n",
    "    msg = msg_all.find_elements_by_css_selector(\"div[class='_3ExzF'] span[dir='ltr'] span\")\n",
    "    print([i.get_attribute('innerHTML') for i in msg][-1])\n",
    "    print('\\n')"
   ]
  },
  {
   "cell_type": "code",
   "execution_count": null,
   "metadata": {},
   "outputs": [],
   "source": []
  },
  {
   "cell_type": "code",
   "execution_count": null,
   "metadata": {},
   "outputs": [],
   "source": []
  },
  {
   "cell_type": "code",
   "execution_count": null,
   "metadata": {},
   "outputs": [],
   "source": []
  },
  {
   "cell_type": "code",
   "execution_count": null,
   "metadata": {},
   "outputs": [],
   "source": []
  },
  {
   "cell_type": "code",
   "execution_count": null,
   "metadata": {},
   "outputs": [],
   "source": []
  },
  {
   "cell_type": "code",
   "execution_count": 74,
   "metadata": {},
   "outputs": [
    {
     "output_type": "execute_result",
     "data": {
      "text/plain": [
       "<selenium.webdriver.remote.webelement.WebElement (session=\"843a8fa4f38de5cfec0b7a61b9adba05\", element=\"0153ce57-06ba-493d-9636-73ca981cbdca\")>"
      ]
     },
     "metadata": {},
     "execution_count": 74
    }
   ],
   "source": [
    "msg"
   ]
  },
  {
   "cell_type": "code",
   "execution_count": 55,
   "metadata": {},
   "outputs": [
    {
     "output_type": "execute_result",
     "data": {
      "text/plain": [
       "[<selenium.webdriver.remote.webelement.WebElement (session=\"843a8fa4f38de5cfec0b7a61b9adba05\", element=\"975794d0-ddde-4135-be1f-4dcc7fb72c8a\")>]"
      ]
     },
     "metadata": {},
     "execution_count": 55
    }
   ],
   "source": [
    "test"
   ]
  },
  {
   "cell_type": "code",
   "execution_count": 56,
   "metadata": {},
   "outputs": [
    {
     "output_type": "execute_result",
     "data": {
      "text/plain": [
       "v class=\"_2xq9W\"><span data-testid=\"forwarded\" data-icon=\"forwarded\" class=\"Sqh9W _2nw-x\"><svg width=\"16\" height=\"16\" viewBox=\"0 0 16 16\" xmlns=\"http://www.w3.org/2000/svg\"><path d=\"M9.519 3.875a.54.54 0 0 1 .922-.382l4.03 4.034a.54.54 0 0 1 0 .764l-4.03 4.034a.54.54 0 0 1-.922-.383v-1.821c-3.398 0-5.886.97-7.736 3.074-.164.186-.468.028-.402-.211.954-3.449 3.284-6.67 8.138-7.363V3.875z\" fill=\"currentColor\"></path></svg></span><span class=\"_3SReC\">已转发</span></div><div class=\"JtB6T copyable-text\" data-pre-plain-text=\"[10:38, 2021年2月4日] Fm: \"><div class=\"_3ExzF\"><span dir=\"ltr\" class=\"_3-8er selectable-text copyable-text\"><span>adjust panel</span></span><span class=\"_1Bd9o _2ScdV\"></span></div></div><div class=\"_2zWo9\"><div class=\"UFTvj\" role=\"button\"><span class=\"_17Osw\" dir=\"auto\">10:38</span><div class=\"_2nWgr\"><span data-testid=\"msg-dblcheck\" aria-label=\" 已递送 \" data-icon=\"msg-dblcheck\" class=\"\"><svg xmlns=\"http://www.w3.org/2000/svg\" viewBox=\"0 0 16 15\" width=\"16\" height=\"15\"><path fill=\"currentColor\" d=\"M15.01 3.316l-.478-.372a.365.365 0 0 0-.51.063L8.666 9.879a.32.32 0 0 1-.484.033l-.358-.325a.319.319 0 0 0-.484.032l-.378.483a.418.418 0 0 0 .036.541l1.32 1.266c.143.14.361.125.484-.033l6.272-8.048a.366.366 0 0 0-.064-.512zm-4.1 0l-.478-.372a.365.365 0 0 0-.51.063L4.566 9.879a.32.32 0 0 1-.484.033L1.891 7.769a.366.366 0 0 0-.515.006l-.423.433a.364.364 0 0 0 .006.514l3.258 3.185c.143.14.361.125.484-.033l6.272-8.048a.365.365 0 0 0-.063-.51z\"></path></svg></span></div></div></div></div><span></span></div></div></div><div tabindex=\"-1\" class=\"GDTQm _2iwLX message-out focusable-list-item\" data-id=\"true_85259332407@c.us_3EB0E19AF10FA66EE21D\"><span></span><div class=\"_24wtQ _2W7I-\"><div class=\"_3XpKm _20zqk\"><div class=\"_1bR5a\"><div class=\"_2xq9W\"><span data-testid=\"forwarded\" data-icon=\"forwarded\" class=\"Sqh9W _2nw-x\"><svg width=\"16\" height=\"16\" viewBox=\"0 0 16 16\" xmlns=\"http://www.w3.org/2000/svg\"><path d=\"M9.519 3.875a.54.54 0 0 1 .922-.382l4.03 4.034a.54.54 0 0 1 0 .764l-4.03 4.034a.54.54 0 0 1-.922-.383v-1.821c-3.398 0-5.886.97-7.736 3.074-.164.186-.468.028-.402-.211.954-3.449 3.284-6.67 8.138-7.363V3.875z\" fill=\"currentColor\"></path></svg></span><span class=\"_3SReC\">已转发</span></div><div class=\"JtB6T copyable-text\" data-pre-plain-text=\"[10:38, 2021年2月4日] Fm: \"><div class=\"_3ExzF\"><span dir=\"ltr\" class=\"_3-8er selectable-text copyable-text\"><span>for height</span></span><span class=\"_1Bd9o _2ScdV\"></span></div></div><div class=\"_2zWo9\"><div class=\"UFTvj\" role=\"button\"><span class=\"_17Osw\" dir=\"auto\">10:38</span><div class=\"_2nWgr\"><span data-testid=\"msg-dblcheck\" aria-label=\" 已递送 \" data-icon=\"msg-dblcheck\" class=\"\"><svg xmlns=\"http://www.w3.org/2000/svg\" viewBox=\"0 0 16 15\" width=\"16\" height=\"15\"><path fill=\"currentColor\" d=\"M15.01 3.316l-.478-.372a.365.365 0 0 0-.51.063L8.666 9.879a.32.32 0 0 1-.484.033l-.358-.325a.319.319 0 0 0-.484.032l-.378.483a.418.418 0 0 0 .036.541l1.32 1.266c.143.14.361.125.484-.033l6.272-8.048a.366.366 0 0 0-.064-.512zm-4.1 0l-.478-.372a.365.365 0 0 0-.51.063L4.566 9.879a.32.32 0 0 1-.484.033L1.891 7.769a.366.366 0 0 0-.515.006l-.423.433a.364.364 0 0 0 .006.514l3.258 3.185c.143.14.361.125.484-.033l6.272-8.048a.365.365 0 0 0-.063-.51z\"></path></svg></span></div></div></div></div><span></span></div></div></div><div tabindex=\"-1\" class=\"GDTQm _2iwLX message-out focusable-list-item\" data-id=\"true_85259332407@c.us_3EB08C7D0A700C050997\"><span></span><div class=\"_24wtQ _2W7I-\"><div class=\"_3XpKm _20zqk\"><div class=\"_1bR5a\"><div class=\"_2xq9W\"><span data-testid=\"forwarded\" data-icon=\"forwarded\" class=\"Sqh9W _2nw-x\"><svg width=\"16\" height=\"16\" viewBox=\"0 0 16 16\" xmlns=\"http://www.w3.org/2000/svg\"><path d=\"M9.519 3.875a.54.54 0 0 1 .922-.382l4.03 4.034a.54.54 0 0 1 0 .764l-4.03 4.034a.54.54 0 0 1-.922-.383v-1.821c-3.398 0-5.886.97-7.736 3.074-.164.186-.468.028-.402-.211.954-3.449 3.284-6.67 8.138-7.363V3.875z\" fill=\"currentColor\"></path></svg></span><span class=\"_3SReC\">已转发</span></div><div class=\"JtB6T copyable-text\" data-pre-plain-text=\"[10:38, 2021年2月4日] Fm: \"><div class=\"_3ExzF\"><span dir=\"ltr\" class=\"_3-8er selectable-text copyable-text\"><span>table bigger than expected</span></span><span class=\"_1Bd9o _2ScdV\"></span></div></div><div class=\"_2zWo9\"><div class=\"UFTvj\" role=\"button\"><span class=\"_17Osw\" dir=\"auto\">10:38</span><div class=\"_2nWgr\"><span data-testid=\"msg-dblcheck\" aria-label=\" 已递送 \" data-icon=\"msg-dblcheck\" class=\"\"><svg xmlns=\"http://www.w3.org/2000/svg\" viewBox=\"0 0 16 15\" width=\"16\" height=\"15\"><path fill=\"currentColor\" d=\"M15.01 3.316l-.478-.372a.365.365 0 0 0-.51.063L8.666 9.879a.32.32 0 0 1-.484.033l-.358-.325a.319.319 0 0 0-.484.032l-.378.483a.418.418 0 0 0 .036.541l1.32 1.266c.143.14.361.125.484-.033l6.272-8.048a.366.366 0 0 0-.064-.512zm-4.1 0l-.478-.372a.365.365 0 0 0-.51.063L4.566 9.879a.32.32 0 0 1-.484.033L1.891 7.769a.366.366 0 0 0-.515.006l-.423.433a.364.364 0 0 0 .006.514l3.258 3.185c.143.14.361.125.484-.033l6.272-8.048a.365.365 0 0 0-.063-.51z\"></path></svg></span></div></div></div></div><span></span></div></div></div><div tabindex=\"-1\" class=\"GDTQm _2iwLX message-out focusable-list-item\" data-id=\"true_85259332407@c.us_3EB05E40F18E674A7C17\"><span></span><div class=\"_24wtQ _2W7I-\"><div class=\"_3XpKm _20zqk\"><div class=\"_1bR5a\"><div class=\"copyable-text\" data-pre-plain-text=\"[10:38, 2021年2月4日] Fm: \"><div class=\"_3ExzF\"><span dir=\"ltr\" class=\"_3-8er selectable-text copyable-text\"><span>WOW~!~! I love that</span></span><span class=\"_1Bd9o _2ScdV\"></span></div></div><div class=\"_2zWo9\"><div class=\"UFTvj\" role=\"button\"><span class=\"_17Osw\" dir=\"auto\">10:38</span><div class=\"_2nWgr\"><span data-testid=\"msg-dblcheck\" aria-label=\" 已递送 \" data-icon=\"msg-dblcheck\" class=\"\"><svg xmlns=\"http://www.w3.org/2000/svg\" viewBox=\"0 0 16 15\" width=\"16\" height=\"15\"><path fill=\"currentColor\" d=\"M15.01 3.316l-.478-.372a.365.365 0 0 0-.51.063L8.666 9.879a.32.32 0 0 1-.484.033l-.358-.325a.319.319 0 0 0-.484.032l-.378.483a.418.418 0 0 0 .036.541l1.32 1.266c.143.14.361.125.484-.033l6.272-8.048a.366.366 0 0 0-.064-.512zm-4.1 0l-.478-.372a.365.365 0 0 0-.51.063L4.566 9.879a.32.32 0 0 1-.484.033L1.891 7.769a.366.366 0 0 0-.515.006l-.423.433a.364.364 0 0 0 .006.514l3.258 3.185c.143.14.361.125.484-.033l6.272-8.048a.365.365 0 0 0-.063-.51z\"></path></svg></span></div></div></div></div><span></span></div></div></div><div tabindex=\"-1\" class=\"GDTQm _2iwLX message-out focusable-list-item\" data-id=\"true_85259332407@c.us_3EB033984730AF76CBC7\"><span></span><div class=\"_24wtQ gZ4ft\"><div class=\"_3XpKm _20zqk\"><div class=\"_2Ro1i _2SRHP\"><div><div class=\"_2xq9W lVh2G\"><span data-testid=\"forwarded\" data-icon=\"forwarded\" class=\"Sqh9W _2nw-x\"><svg width=\"16\" height=\"16\" viewBox=\"0 0 16 16\" xmlns=\"http://www.w3.org/2000/svg\"><path d=\"M9.519 3.875a.54.54 0 0 1 .922-.382l4.03 4.034a.54.54 0 0 1 0 .764l-4.03 4.034a.54.54 0 0 1-.922-.383v-1.821c-3.398 0-5.886.97-7.736 3.074-.164.186-.468.028-.402-.211.954-3.449 3.284-6.67 8.138-7.363V3.875z\" fill=\"currentColor\"></path></svg></span><span class=\"_3SReC\">已转发</span></div><div role=\"button\" class=\"_2MfUK\" style=\"width: 330px; height: 186px;\"><div class=\"_1DzQ6\"><button class=\"FgdlY _2j_hL\"><span data-testid=\"media-download\" data-icon=\"media-download\" class=\"_1Z2Bl\"><svg width=\"24\" height=\"24\" viewBox=\"0 0 24 24\" xmlns=\"http://www.w3.org/2000/svg\"><path d=\"M19.473 12.2h-4.3V2.9c0-.5-.4-.9-.9-.9h-4.3c-.5 0-.9.4-.9.9v9.3h-4.3c-.8 0-1 .5-.5 1.1l6.8 7.3c.7.9 1.4.7 2.1 0l6.8-7.3c.5-.6.3-1.1-.5-1.1z\" fill=\"currentColor\"></path></svg></span><span>164 kB</span></button></div><img src=\"data:image/jpeg;base64,/9j/4AAQSkZJRgABAQAAAQABAAD/2wCEABsbGxscGx4hIR4qLSgtKj04MzM4PV1CR0JHQl2NWGdYWGdYjX2Xe3N7l33gsJycsOD/2c7Z//////////////8BGxsbGxwbHiEhHiotKC0qPTgzMzg9XUJHQkdCXY1YZ1hYZ1iNfZd7c3uXfeCwnJyw4P/Zztn////////////////CABEIACEAPAMBIgACEQEDEQH/xAAuAAADAQEBAAAAAAAAAAAAAAADBAUAAgEBAQEBAQAAAAAAAAAAAAAAAAEAAwL/2gAMAwEAAhADEAAAAODEIMlGwKQtieqUvTHDWRp5sjt0HdwG/BF7kY09sbZ00G3a8jtn2LnbXL//xAAmEAACAgIABAYDAAAAAAAAAAABAgADBBESITEyBRQiQVFxIzNC/9oACAEBAAE/ABjoPcyusKGIJmRfZXdtW5kQ3PzHFCqFAdkuR0ifjQDctybOM6cxnLnbHcIHsJSBtvqWUVu22UmV4tZJ4ki0nzSek8IjVA7lmKjdoAjYSE92pxtZzrIAjPcoJVxv6nnsosQEBMXOv9wI2baBsRM+99xS5UE9YzlTMFm5iEcukc10I7BfURMGpLgS3zGw8QqQAJk47Y1u1I4TFyfSCU3Dm6P654bD0mZ2zB7Wmz8zM/iL0qlve0//xAAcEQACAgIDAAAAAAAAAAAAAAAAARESAjIQIlH/2gAIAQIBAT8As/SxYkcpjqlMHXjPYy1MNhH/xAAdEQABAwUBAAAAAAAAAAAAAAAAAQISEBEhMTJR/9oACAEDAQE/AIJ4RIkS5lV2ZL0b0O1T/9k=\" class=\"_1-59F _3Oxpo\" style=\"height: 100%;\"><div class=\"_2iL1d\"></div></div><div class=\"_28Ddf\"><div class=\"UFTvj nszPL\" role=\"button\"><span class=\"_17Osw\" dir=\"auto\">10:38</span><div class=\"_2nWgr\"><span data-testid=\"msg-dblcheck\" aria-label=\" 已递送 \" data-icon=\"msg-dblcheck\" class=\"wDGIu\"><svg xmlns=\"http://www.w3.org/2000/svg\" viewBox=\"0 0 16 15\" width=\"16\" height=\"15\"><path fill=\"currentColor\" d=\"M15.01 3.316l-.478-.372a.365.365 0 0 0-.51.063L8.666 9.879a.32.32 0 0 1-.484.033l-.358-.325a.319.319 0 0 0-.484.032l-.378.483a.418.418 0 0 0 .036.541l1.32 1.266c.143.14.361.125.484-.033l6.272-8.048a.366.366 0 0 0-.064-.512zm-4.1 0l-.478-.372a.365.365 0 0 0-.51.063L4.566 9.879a.32.32 0 0 1-.484.033L1.891 7.769a.366.366 0 0 0-.515.006l-.423.433a.364.364 0 0 0 .006.514l3.258 3.185c.143.14.361.125.484-.033l6.272-8.048a.365.365 0 0 0-.063-.51z\"></path></svg></span></div></div></div></div></div><span></span></div></div></div><div tabindex=\"-1\" class=\"GDTQm _2iwLX message-out focusable-list-item\" data-id=\"true_85259332407@c.us_3EB0096E4AE694C047EB\"><span></span><div class=\"_24wtQ _2W7I-\"><div class=\"_3XpKm _20zqk\"><div class=\"_1bR5a\"><div class=\"copyable-text\" data-pre-plain-text=\"[10:38, 2021年2月4日] Fm: \"><div class=\"_3ExzF\"><span dir=\"ltr\" class=\"_3-8er selectable-text copyable-text\"><span>Oh. I cannot adjust the height</span></span><span class=\"_1Bd9o _2ScdV\"></span></div></div><div class=\"_2zWo9\"><div class=\"UFTvj\" role=\"button\"><span class=\"_17Osw\" dir=\"auto\">10:38</span><div class=\"_2nWgr\"><span data-testid=\"msg-dblcheck\" aria-label=\" 已递送 \" data-icon=\"msg-dblcheck\" class=\"\"><svg xmlns=\"http://www.w3.org/2000/svg\" viewBox=\"0 0 16 15\" width=\"16\" height=\"15\"><path fill=\"currentColor\" d=\"M15.01 3.316l-.478-.372a.365.365 0 0 0-.51.063L8.666 9.879a.32.32 0 0 1-.484.033l-.358-.325a.319.319 0 0 0-.484.032l-.378.483a.418.418 0 0 0 .036.541l1.32 1.266c.143.14.361.125.484-.033l6.272-8.048a.366.366 0 0 0-.064-.512zm-4.1 0l-.478-.372a.365.365 0 0 0-.51.063L4.566 9.879a.32.32 0 0 1-.484.033L1.891 7.769a.366.366 0 0 0-.515.006l-.423.433a.364.364 0 0 0 .006.514l3.258 3.185c.143.14.361.125.484-.033l6.272-8.048a.365.365 0 0 0-.063-.51z\"></path></svg></span></div></div></div></div><span></span></div></div></div><div tabindex=\"-1\" class=\"GDTQm _2iwLX message-out focusable-list-item\" data-id=\"true_85259332407@c.us_3EB010F70EDC2888A8CE\"><span></span><div class=\"_24wtQ _2W7I-\"><div class=\"_3XpKm _20zqk\"><div class=\"_1bR5a\"><div class=\"_2xq9W\"><span data-testid=\"forwarded\" data-icon=\"forwarded\" class=\"Sqh9W _2nw-x\"><svg width=\"16\" height=\"16\" viewBox=\"0 0 16 16\" xmlns=\"http://www.w3.org/2000/svg\"><path d=\"M9.519 3.875a.54.54 0 0 1 .922-.382l4.03 4.034a.54.54 0 0 1 0 .764l-4.03 4.034a.54.54 0 0 1-.922-.383v-1.821c-3.398 0-5.886.97-7.736 3.074-.164.186-.468.028-.402-.211.954-3.449 3.284-6.67 8.138-7.363V3.875z\" fill=\"currentColor\"></path></svg></span><span class=\"_3SReC\">已转发</span></div><div class=\"JtB6T copyable-text\" data-pre-plain-text=\"[10:38, 2021年2月4日] Fm: \"><div class=\"_3ExzF\"><span dir=\"ltr\" class=\"_3-8er selectable-text copyable-text\"><span>ya, I am sorry<img crossorigin=\"anonymous\" src=\"data:image/gif;base64,R0lGODlhAQABAIAAAAAAAP///yH5BAEAAAAALAAAAAABAAEAAAIBRAA7\" alt=\"🙇🏼\\u200d♀️\" draggable=\"false\" class=\"b83 emoji apple _3-8er selectable-text copyable-text\" data-plain-text=\"🙇🏼\\u200d♀️\" style=\"background-position: -20px -60px;\"></span></span><span class=\"_1Bd9o _2ScdV\"></span></div></div><div class=\"_2zWo9\"><div class=\"UFTvj\" role=\"button\"><span class=\"_17Osw\" dir=\"auto\">10:38</span><div class=\"_2nWgr\"><span data-testid=\"msg-dblcheck\" aria-label=\" 已递送 \" data-icon=\"msg-dblcheck\" class=\"\"><svg xmlns=\"http://www.w3.org/2000/svg\" viewBox=\"0 0 16 15\" width=\"16\" height=\"15\"><path fill=\"currentColor\" d=\"M15.01 3.316l-.478-.372a.365.365 0 0 0-.51.063L8.666 9.879a.32.32 0 0 1-.484.033l-.358-.325a.319.319 0 0 0-.484.032l-.378.483a.418.418 0 0 0 .036.541l1.32 1.266c.143.14.361.125.484-.033l6.272-8.048a.366.366 0 0 0-.064-.512zm-4.1 0l-.478-.372a.365.365 0 0 0-.51.063L4.566 9.879a.32.32 0 0 1-.484.033L1.891 7.769a.366.366 0 0 0-.515.006l-.423.433a.364.364 0 0 0 .006.514l3.258 3.185c.143.14.361.125.484-.033l6.272-8.048a.365.365 0 0 0-.063-.51z\"></path></svg></span></div></div></div></div><span></span></div></div></div><div tabindex=\"-1\" class=\"GDTQm _2iwLX message-out focusable-list-item\" data-id=\"true_85259332407@c.us_3EB076028BF046092A47\"><span></span><div class=\"_24wtQ _2W7I-\"><div class=\"_3XpKm _20zqk\"><div class=\"_1bR5a\"><div class=\"copyable-text\" data-pre-plain-text=\"[10:38, 2021年2月4日] Fm: \"><div class=\"_3ExzF\"><span dir=\"ltr\" class=\"_3-8er selectable-text copyable-text\"><span><img crossorigin=\"anonymous\" src=\"data:image/gif;base64,R0lGODlhAQABAIAAAAAAAP///yH5BAEAAAAALAAAAAABAAEAAAIBRAA7\" alt=\"😞\" draggable=\"false\" class=\"b80 emoji apple _3-8er selectable-text copyable-text\" data-plain-text=\"😞\" style=\"background-position: -80px -20px;\">Thanks</span></span><span class=\"_1Bd9o _2ScdV\"></span></div></div><div class=\"_2zWo9\"><div class=\"UFTvj\" role=\"button\"><span class=\"_17Osw\" dir=\"auto\">10:38</span><div class=\"_2nWgr\"><span data-testid=\"msg-dblcheck\" aria-label=\" 已递送 \" data-icon=\"msg-dblcheck\" class=\"\"><svg xmlns=\"http://www.w3.org/2000/svg\" viewBox=\"0 0 16 15\" width=\"16\" height=\"15\"><path fill=\"currentColor\" d=\"M15.01 3.316l-.478-.372a.365.365 0 0 0-.51.063L8.666 9.879a.32.32 0 0 1-.484.033l-.358-.325a.319.319 0 0 0-.484.032l-.378.483a.418.418 0 0 0 .036.541l1.32 1.266c.143.14.361.125.484-.033l6.272-8.048a.366.366 0 0 0-.064-.512zm-4.1 0l-.478-.372a.365.365 0 0 0-.51.063L4.566 9.879a.32.32 0 0 1-.484.033L1.891 7.769a.366.366 0 0 0-.515.006l-.423.433a.364.364 0 0 0 .006.514l3.258 3.185c.143.14.361.125.484-.033l6.272-8.048a.365.365 0 0 0-.063-.51z\"></path></svg></span></div></div></div></div><span></span></div></div></div><div tabindex=\"-1\" class=\"GDTQm message-out focusable-list-item\" data-id=\"true_85259332407@c.us_3EB02C70DA9B88F021E1\"><span></span><div class=\"_24wtQ _2W7I-\"><div class=\"_3XpKm _20zqk\"><span aria-label=\"您：\"></span><div class=\"_1bR5a\"><div class=\"_2xq9W\"><span data-testid=\"forwarded\" data-icon=\"forwarded\" class=\"Sqh9W _2nw-x\"><svg width=\"16\" height=\"16\" viewBox=\"0 0 16 16\" xmlns=\"http://www.w3.org/2000/svg\"><path d=\"M9.519 3.875a.54.54 0 0 1 .922-.382l4.03 4.034a.54.54 0 0 1 0 .764l-4.03 4.034a.54.54 0 0 1-.922-.383v-1.821c-3.398 0-5.886.97-7.736 3.074-.164.186-.468.028-.402-.211.954-3.449 3.284-6.67 8.138-7.363V3.875z\" fill=\"currentColor\"></path></svg></span><span class=\"_3SReC\">已转发</span></div><div class=\"JtB6T copyable-text\" data-pre-plain-text=\"[10:38, 2021年2月4日] Fm: \"><div class=\"_3ExzF\"><span dir=\"ltr\" class=\"_3-8er selectable-text copyable-text\"><span>but seems 4ppls.share 5 desk? for p403 to 407. p404 not yet occupied <img crossorigin=\"anonymous\" src=\"data:image/gif;base64,R0lGODlhAQABAIAAAAAAAP///yH5BAEAAAAALAAAAAABAAEAAAIBRAA7\" alt=\"☺️\" draggable=\"false\" class=\"b3 emoji apple _3-8er selectable-text copyable-text\" data-plain-text=\"☺️\" style=\"background-position: -60px 0px;\"></span></span><span class=\"_1Bd9o _2ScdV\"></span></div></div><div class=\"_2zWo9\"><div class=\"UFTvj\" role=\"button\"><span class=\"_17Osw\" dir=\"auto\">10:38</span><div class=\"_2nWgr\"><span data-testid=\"msg-dblcheck\" aria-label=\" 已递送 \" data-icon=\"msg-dblcheck\" class=\"\"><svg xmlns=\"http://www.w3.org/2000/svg\" viewBox=\"0 0 16 15\" width=\"16\" height=\"15\"><path fill=\"currentColor\" d=\"M15.01 3.316l-.478-.372a.365.365 0 0 0-.51.063L8.666 9.879a.32.32 0 0 1-.484.033l-.358-.325a.319.319 0 0 0-.484.032l-.378.483a.418.418 0 0 0 .036.541l1.32 1.266c.143.14.361.125.484-.033l6.272-8.048a.366.366 0 0 0-.064-.512zm-4.1 0l-.478-.372a.365.365 0 0 0-.51.063L4.566 9.879a.32.32 0 0 1-.484.033L1.891 7.769a.366.366 0 0 0-.515.006l-.423.433a.364.364 0 0 0 .006.514l3.258 3.185c.143.14.361.125.484-.033l6.272-8.048a.365.365 0 0 0-.063-.51z\"></path></svg></span></div></div></div></div><span></span></div></div></div><div tabindex=\"-1\" class=\"GDTQm message-in focusable-list-item\" data-id=\"false_85259332407@c.us_3A740A93D67AE59D5A3C\"><span></span><div class=\"_24wtQ _2W7I- _1-U5A\"><span data-testid=\"tail-in\" data-icon=\"tail-in\" class=\"_1bUzr\"><svg xmlns=\"http://www.w3.org/2000/svg\" viewBox=\"0 0 8 13\" width=\"8\" height=\"13\"><path opacity=\".13\" fill=\"#0000000\" d=\"M1.533 3.568L8 12.193V1H2.812C1.042 1 .474 2.156 1.533 3.568z\"></path><path fill=\"currentColor\" d=\"M1.533 2.568L8 11.193V0H2.812C1.042 0 .474 1.156 1.533 2.568z\"></path></svg></span><div class=\"_3XpKm _20zqk\"><span aria-label=\"烦死人他娘烦死你他妈：\"></span><div class=\"_1bR5a\"><div class=\"copyable-text\" data-pre-plain-text=\"[10:38, 2021年2月4日] 烦死人他娘烦死你他妈: \"><div class=\"_3ExzF\"><span dir=\"ltr\" class=\"_3-8er selectable-text copyable-text\"><span>我酸了</span></span><span class=\"_1Bd9o\"></span></div></div><div class=\"_2zWo9\"><div class=\"UFTvj\"><span class=\"_17Osw\" dir=\"auto\">10:38</span></div></div></div><span></span></div></div></div><div class=\"GDTQm _397qe focusable-list-item\" tabindex=\"-1\"><div class=\"_24wtQ _2kR4B\"><span dir=\"auto\" class=\"_3-8er\">今天</span></div></div><div tabindex=\"-1\" class=\"GDTQm message-in focusable-list-item\" data-id=\"false_85259332407@c.us_3A0B3EB26BE8C1169B37\"><span></span><div class=\"_24wtQ _3nuWB _1-U5A _3EGGu\"><span data-testid=\"tail-in\" data-icon=\"tail-in\" class=\"_1bUzr\"><svg xmlns=\"http://www.w3.org/2000/svg\" viewBox=\"0 0 8 13\" width=\"8\" height=\"13\"><path opacity=\".13\" fill=\"#0000000\" d=\"M1.533 3.568L8 12.193V1H2.812C1.042 1 .474 2.156 1.533 3.568z\"></path><path fill=\"currentColor\" d=\"M1.533 2.568L8 11.193V0H2.812C1.042 0 .474 1.156 1.533 2.568z\"></path></svg></span><div class=\"\"><span aria-label=\"烦死人他娘烦死你他妈：\"></span><div class=\"_3rlNI _2Q_wE _2DGdv\"><div class=\"_3wSPP\"><div class=\"_2MfUK _18P7y\"><img class=\"_1guNH\" draggable=\"false\" src=\"blob:https://web.whatsapp.com/a7fb703a-9572-4e10-80a4-6384b70ff19c\"></div><div class=\"_3ogTW\"><div class=\"UFTvj\"><span class=\"_17Osw\" dir=\"auto\">22:54</span></div></div></div></div><span></span></div></div></div><div tabindex=\"-1\" class=\"GDTQm message-out focusable-list-item\" data-id=\"true_85259332407@c.us_3EB0B51A23DA7245F83F\"><span></span><div class=\"_24wtQ _2W7I- _1-U5A\"><span data-testid=\"tail-out\" data-icon=\"tail-out\" class=\"_1bUzr\"><svg xmlns=\"http://www.w3.org/2000/svg\" viewBox=\"0 0 8 13\" width=\"8\" height=\"13\"><path opacity=\".13\" d=\"M5.188 1H0v11.193l6.467-8.625C7.526 2.156 6.958 1 5.188 1z\"></path><path fill=\"currentColor\" d=\"M5.188 0H0v11.193l6.467-8.625C7.526 1.156 6.958 0 5.188 0z\"></path></svg></span><div class=\"_3XpKm _20zqk\"><span aria-label=\"您：\"></span><div class=\"_1bR5a\"><div class=\"copyable-text\" data-pre-plain-text=\"[22:54, 2021年3月15日] Fm: \"><div class=\"_3ExzF\"><span dir=\"ltr\" class=\"_3-8er selectable-text copyable-text\"><span>爱你</span></span><span class=\"_1Bd9o _2ScdV\"></span></div></div><div class=\"_2zWo9\"><div class=\"UFTvj\" role=\"button\"><span class=\"_17Osw\" dir=\"auto\">22:54</span><div class=\"_2nWgr\"><span data-testid=\"msg-dblcheck\" aria-label=\" 已递送 \" data-icon=\"msg-dblcheck\" class=\"\"><svg xmlns=\"http://www.w3.org/2000/svg\" viewBox=\"0 0 16 15\" width=\"16\" height=\"15\"><path fill=\"currentColor\" d=\"M15.01 3.316l-.478-.372a.365.365 0 0 0-.51.063L8.666 9.879a.32.32 0 0 1-.484.033l-.358-.325a.319.319 0 0 0-.484.032l-.378.483a.418.418 0 0 0 .036.541l1.32 1.266c.143.14.361.125.484-.033l6.272-8.048a.366.366 0 0 0-.064-.512zm-4.1 0l-.478-.372a.365.365 0 0 0-.51.063L4.566 9.879a.32.32 0 0 1-.484.033L1.891 7.769a.366.366 0 0 0-.515.006l-.423.433a.364.364 0 0 0 .006.514l3.258 3.185c.143.14.361.125.484-.033l6.272-8.048a.365.365 0 0 0-.063-.51z\"></path></svg></span></div></div></div></div><span></span></div></div></div>'"
      ]
     },
     "metadata": {},
     "execution_count": 56
    }
   ],
   "source": [
    "test[0].get_attribute('innerHTML')"
   ]
  },
  {
   "cell_type": "code",
   "execution_count": 39,
   "metadata": {},
   "outputs": [
    {
     "output_type": "stream",
     "name": "stdout",
     "text": [
      "<svg id=\"ee51d023-7db6-4950-baf7-c34874b80976\" xmlns=\"http://www.w3.org/2000/svg\" viewBox=\"0 0 24 24\" width=\"24\" height=\"24\"><path fill=\"currentColor\" d=\"M12 20.664a9.163 9.163 0 0 1-6.521-2.702.977.977 0 0 1 1.381-1.381 7.269 7.269 0 0 0 10.024.244.977.977 0 0 1 1.313 1.445A9.192 9.192 0 0 1 12 20.664zm7.965-6.112a.977.977 0 0 1-.944-1.229 7.26 7.26 0 0 0-4.8-8.804.977.977 0 0 1 .594-1.86 9.212 9.212 0 0 1 6.092 11.169.976.976 0 0 1-.942.724zm-16.025-.39a.977.977 0 0 1-.953-.769 9.21 9.21 0 0 1 6.626-10.86.975.975 0 1 1 .52 1.882l-.015.004a7.259 7.259 0 0 0-5.223 8.558.978.978 0 0 1-.955 1.185z\"></path></svg>\n",
      "<svg xmlns=\"http://www.w3.org/2000/svg\" viewBox=\"0 0 24 24\" width=\"24\" height=\"24\"><path fill=\"currentColor\" d=\"M19.005 3.175H4.674C3.642 3.175 3 3.789 3 4.821V21.02l3.544-3.514h12.461c1.033 0 2.064-1.06 2.064-2.093V4.821c-.001-1.032-1.032-1.646-2.064-1.646zm-4.989 9.869H7.041V11.1h6.975v1.944zm3-4H7.041V7.1h9.975v1.944z\"></path></svg>\n",
      "<svg xmlns=\"http://www.w3.org/2000/svg\" viewBox=\"0 0 24 24\" width=\"24\" height=\"24\"><path fill=\"currentColor\" d=\"M12 7a2 2 0 1 0-.001-4.001A2 2 0 0 0 12 7zm0 2a2 2 0 1 0-.001 3.999A2 2 0 0 0 12 9zm0 6a2 2 0 1 0-.001 3.999A2 2 0 0 0 12 15z\"></path></svg>\n",
      "<svg xmlns=\"http://www.w3.org/2000/svg\" viewBox=\"0 0 212 212\" width=\"212\" height=\"212\"><path fill=\"#DFE5E7\" class=\"background\" d=\"M106.251.5C164.653.5 212 47.846 212 106.25S164.653 212 106.25 212C47.846 212 .5 164.654.5 106.25S47.846.5 106.251.5z\"></path><path fill=\"#FFF\" class=\"primary\" d=\"M173.561 171.615a62.767 62.767 0 0 0-2.065-2.955 67.7 67.7 0 0 0-2.608-3.299 70.112 70.112 0 0 0-3.184-3.527 71.097 71.097 0 0 0-5.924-5.47 72.458 72.458 0 0 0-10.204-7.026 75.2 75.2 0 0 0-5.98-3.055c-.062-.028-.118-.059-.18-.087-9.792-4.44-22.106-7.529-37.416-7.529s-27.624 3.089-37.416 7.529c-.338.153-.653.318-.985.474a75.37 75.37 0 0 0-6.229 3.298 72.589 72.589 0 0 0-9.15 6.395 71.243 71.243 0 0 0-5.924 5.47 70.064 70.064 0 0 0-3.184 3.527 67.142 67.142 0 0 0-2.609 3.299 63.292 63.292 0 0 0-2.065 2.955 56.33 56.33 0 0 0-1.447 2.324c-.033.056-.073.119-.104.174a47.92 47.92 0 0 0-1.07 1.926c-.559 1.068-.818 1.678-.818 1.678v.398c18.285 17.927 43.322 28.985 70.945 28.985 27.678 0 52.761-11.103 71.055-29.095v-.289s-.619-1.45-1.992-3.778a58.346 58.346 0 0 0-1.446-2.322zM106.002 125.5c2.645 0 5.212-.253 7.68-.737a38.272 38.272 0 0 0 3.624-.896 37.124 37.124 0 0 0 5.12-1.958 36.307 36.307 0 0 0 6.15-3.67 35.923 35.923 0 0 0 9.489-10.48 36.558 36.558 0 0 0 2.422-4.84 37.051 37.051 0 0 0 1.716-5.25c.299-1.208.542-2.443.725-3.701.275-1.887.417-3.827.417-5.811s-.142-3.925-.417-5.811a38.734 38.734 0 0 0-1.215-5.494 36.68 36.68 0 0 0-3.648-8.298 35.923 35.923 0 0 0-9.489-10.48 36.347 36.347 0 0 0-6.15-3.67 37.124 37.124 0 0 0-5.12-1.958 37.67 37.67 0 0 0-3.624-.896 39.875 39.875 0 0 0-7.68-.737c-21.162 0-37.345 16.183-37.345 37.345 0 21.159 16.183 37.342 37.345 37.342z\"></path></svg>\n",
      "<svg xmlns=\"http://www.w3.org/2000/svg\" viewBox=\"0 0 24 24\" width=\"24\" height=\"24\"><path fill=\"currentColor\" d=\"M15.9 14.3H15l-.3-.3c1-1.1 1.6-2.7 1.6-4.3 0-3.7-3-6.7-6.7-6.7S3 6 3 9.7s3 6.7 6.7 6.7c1.6 0 3.2-.6 4.3-1.6l.3.3v.8l5.1 5.1 1.5-1.5-5-5.2zm-6.2 0c-2.6 0-4.6-2.1-4.6-4.6s2.1-4.6 4.6-4.6 4.6 2.1 4.6 4.6-2 4.6-4.6 4.6z\"></path></svg>\n",
      "<svg xmlns=\"http://www.w3.org/2000/svg\" viewBox=\"0 0 24 24\" width=\"24\" height=\"24\"><path fill=\"currentColor\" d=\"M12 7a2 2 0 1 0-.001-4.001A2 2 0 0 0 12 7zm0 2a2 2 0 1 0-.001 3.999A2 2 0 0 0 12 9zm0 6a2 2 0 1 0-.001 3.999A2 2 0 0 0 12 15z\"></path></svg>\n",
      "<svg xmlns=\"http://www.w3.org/2000/svg\" viewBox=\"0 0 24 24\" width=\"24\" height=\"24\"><path fill=\"currentColor\" d=\"M17.6 6.4C16.2 4.9 14.2 4 12 4c-4.4 0-8 3.6-8 8s3.6 8 8 8c3.7 0 6.8-2.6 7.7-6h-2.1c-.8 2.3-3 4-5.6 4-3.3 0-6-2.7-6-6s2.7-6 6-6c1.7 0 3.1.7 4.2 1.8L13 11h7V4l-2.4 2.4z\"></path></svg>\n",
      "\n",
      "<svg xmlns=\"http://www.w3.org/2000/svg\" viewBox=\"0 0 24 24\" width=\"24\" height=\"24\"><path fill=\"currentColor\" d=\"M1.816 15.556v.002c0 1.502.584 2.912 1.646 3.972s2.472 1.647 3.974 1.647a5.58 5.58 0 0 0 3.972-1.645l9.547-9.548c.769-.768 1.147-1.767 1.058-2.817-.079-.968-.548-1.927-1.319-2.698-1.594-1.592-4.068-1.711-5.517-.262l-7.916 7.915c-.881.881-.792 2.25.214 3.261.959.958 2.423 1.053 3.263.215l5.511-5.512c.28-.28.267-.722.053-.936l-.244-.244c-.191-.191-.567-.349-.957.04l-5.506 5.506c-.18.18-.635.127-.976-.214-.098-.097-.576-.613-.213-.973l7.915-7.917c.818-.817 2.267-.699 3.23.262.5.501.802 1.1.849 1.685.051.573-.156 1.111-.589 1.543l-9.547 9.549a3.97 3.97 0 0 1-2.829 1.171 3.975 3.975 0 0 1-2.83-1.173 3.973 3.973 0 0 1-1.172-2.828c0-1.071.415-2.076 1.172-2.83l7.209-7.211c.157-.157.264-.579.028-.814L11.5 4.36a.572.572 0 0 0-.834.018l-7.205 7.207a5.577 5.577 0 0 0-1.645 3.971z\"></path></svg>\n"
     ]
    }
   ],
   "source": [
    "for item in test:\n",
    "    print(item.find_element_by_tag_name(\"span\").get_attribute('innerHTML'))"
   ]
  },
  {
   "cell_type": "code",
   "execution_count": null,
   "metadata": {},
   "outputs": [],
   "source": []
  },
  {
   "cell_type": "code",
   "execution_count": null,
   "metadata": {},
   "outputs": [],
   "source": []
  },
  {
   "cell_type": "code",
   "execution_count": null,
   "metadata": {},
   "outputs": [],
   "source": []
  },
  {
   "cell_type": "code",
   "execution_count": null,
   "metadata": {},
   "outputs": [],
   "source": [
    "a =[1,2,3,5]\n",
    "b =[1,2]\n",
    "\n",
    "[x for x in a if ]"
   ]
  },
  {
   "cell_type": "code",
   "execution_count": 1,
   "metadata": {},
   "outputs": [
    {
     "output_type": "execute_result",
     "data": {
      "text/plain": [
       "0.4678667180613394"
      ]
     },
     "metadata": {},
     "execution_count": 1
    }
   ],
   "source": [
    "import random\n",
    "random.uniform(0, 1)"
   ]
  },
  {
   "cell_type": "code",
   "execution_count": 15,
   "metadata": {},
   "outputs": [
    {
     "output_type": "stream",
     "name": "stdout",
     "text": [
      "1\n0.7991772281438877\n1\n0.03633175941870681\ngood\n2\n0.33641952476591075\ngood\n3\n0.44987516335433764\ngood\n4\n0.14753637871780345\ngood\n5\n0.552995179000522\n5\n0.8620715362645401\n5\n0.5848071542559324\n5\n0.593959060897757\n5\n0.826111290790931\n5\n0.2320411923696052\ngood\n6\n0.818682453581874\n6\n0.7873168278617253\n6\n0.930500889859934\n6\n0.6923411368575477\n6\n0.3889525842931898\ngood\n7\n0.7201626204947926\n7\n0.14410842167159787\ngood\n8\n0.6195821742652584\n8\n0.015153566820885533\ngood\n9\n0.16608284205481905\ngood\n"
     ]
    }
   ],
   "source": [
    "for i in range(1, 10): # loop the name number\n",
    "    should_restart = True # Set a indicator of fail sending \n",
    "    # Keep a record for those successful name and number\n",
    "    while should_restart: # If fail sending, the sending process will be restarted\n",
    "        try:\n",
    "            print(i)\n",
    "            temp_random = random.uniform(0,1)\n",
    "            print(temp_random)\n",
    "            if temp_random <=0.5:\n",
    "                should_restart = False\n",
    "                print(\"good\")\n",
    "                break\n",
    "        except:\n",
    "            continue"
   ]
  },
  {
   "cell_type": "code",
   "execution_count": 31,
   "metadata": {},
   "outputs": [
    {
     "output_type": "stream",
     "name": "stdout",
     "text": [
      "6\n7\n8\n9\n"
     ]
    }
   ],
   "source": [
    "for i in range(1,10):\n",
    "    try:\n",
    "        if i > 5:\n",
    "            print(i)\n",
    "        else:\n",
    "            next\n",
    "    except:\n",
    "        continous"
   ]
  },
  {
   "cell_type": "code",
   "execution_count": null,
   "metadata": {},
   "outputs": [],
   "source": []
  }
 ]
}